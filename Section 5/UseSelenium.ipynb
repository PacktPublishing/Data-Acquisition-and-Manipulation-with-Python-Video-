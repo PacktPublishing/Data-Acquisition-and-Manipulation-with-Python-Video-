{
 "cells": [
  {
   "cell_type": "markdown",
   "metadata": {},
   "source": [
    "# Making Use of Selenium\n",
    "*Curtis Miller*\n",
    "\n",
    "I show in this notebook how to get started using Selenium. We set up a driver and connect to a webpage.\n",
    "\n",
    "We run a Chrome browser with Selenium, so we can watch Selenium in action, but in practice we might opt for [PhantomJS](http://phantomjs.org/) (though this might not be wise if we're concerned about looking \"human\").\n",
    "\n",
    "The following code starts a Selenium web driver, looks at a page, then closes the driver."
   ]
  },
  {
   "cell_type": "code",
   "execution_count": null,
   "metadata": {
    "collapsed": false
   },
   "outputs": [],
   "source": [
    "from selenium import webdriver\n",
    "from time import sleep"
   ]
  },
  {
   "cell_type": "code",
   "execution_count": null,
   "metadata": {
    "collapsed": false
   },
   "outputs": [],
   "source": [
    "path = \"chromedriver\"    # Depends on system/OS/etc.\n",
    "driver = webdriver.Chrome(executable_path=path)\n",
    "sleep(15)    # For presentation purposes only\n",
    "driver.get(\"http://pycoders.com/archive/\")    # Go to a website\n",
    "sleep(15)    # For presentation purposes only\n",
    "driver.close()"
   ]
  }
 ],
 "metadata": {
  "kernelspec": {
   "display_name": "Python 3",
   "language": "python",
   "name": "python3"
  },
  "language_info": {
   "codemirror_mode": {
    "name": "ipython",
    "version": 3
   },
   "file_extension": ".py",
   "mimetype": "text/x-python",
   "name": "python",
   "nbconvert_exporter": "python",
   "pygments_lexer": "ipython3",
   "version": "3.6.0"
  }
 },
 "nbformat": 4,
 "nbformat_minor": 2
}
