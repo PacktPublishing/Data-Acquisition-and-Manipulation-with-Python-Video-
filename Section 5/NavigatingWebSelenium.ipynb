{
 "cells": [
  {
   "cell_type": "markdown",
   "metadata": {},
   "source": [
    "# Navigating the Web with Selenium\n",
    "*Curtis Miller*\n",
    "\n",
    "Selenium is effectively a script-controlled web browser. Most of the thing you can do on a webpage as a human, you can do with Selenium.\n",
    "\n",
    "This notebook demonstrates how we can browse the web like a human using Selenium.\n",
    "\n",
    "**Note: The websites visited here could change, which might break this code.**"
   ]
  },
  {
   "cell_type": "code",
   "execution_count": null,
   "metadata": {
    "collapsed": true
   },
   "outputs": [],
   "source": [
    "from selenium import webdriver\n",
    "from time import sleep\n",
    "from selenium.webdriver.common.keys import Keys    # Useful to send more exotic key press"
   ]
  },
  {
   "cell_type": "code",
   "execution_count": null,
   "metadata": {
    "collapsed": false
   },
   "outputs": [],
   "source": [
    "path = \"chromedriver\"\n",
    "driver = webdriver.Chrome(executable_path=path)"
   ]
  },
  {
   "cell_type": "code",
   "execution_count": null,
   "metadata": {
    "collapsed": false
   },
   "outputs": [],
   "source": [
    "# Visit Google\n",
    "driver.get(\"https://www.google.com\")\n",
    "sleep(5)\n",
    "# Get the textbox for queries\n",
    "txtSearch = driver.find_element_by_id(\"lst-ib\")    # Locate a page element by its id value\n",
    "# Get the button to click to start a search\n",
    "btnSearch = driver.find_element_by_name(\"btnK\")    # Locate an element by its name attribute value\n",
    "\n",
    "# Send a search to Google\n",
    "txtSearch.send_keys(\"selenium\")\n",
    "sleep(2)\n",
    "txtSearch.send_keys(Keys.ESCAPE)\n",
    "sleep(3)\n",
    "# Click to search\n",
    "btnSearch.click()\n",
    "sleep(15)"
   ]
  },
  {
   "cell_type": "markdown",
   "metadata": {},
   "source": [
    "Now let's start building a set of related search terms to the one that we tried. We do the following:\n",
    "\n",
    "1. Grab the `div` containing the search terms\n",
    "2. Add those terms to the `set` (chosen to prevent duplication)\n",
    "3. Click the link for one of those search terms\n",
    "4. Grab a new list of search terms (but don't click them) and add them to the set\n",
    "5. Go back to the previous page\n",
    "6. Click the next link\n",
    "\n",
    "We use [XPath syntax](https://en.wikipedia.org/wiki/XPath) to find some elements.\n",
    "\n",
    "(This code may not be the best approach, but it is illustrative.)"
   ]
  },
  {
   "cell_type": "code",
   "execution_count": null,
   "metadata": {
    "collapsed": false
   },
   "outputs": [],
   "source": [
    "# Find a div using XPath syntax\n",
    "# We should be on a new webpage\n",
    "# This div contains related search terms to the one we passed\n",
    "\n",
    "lst_aRes = driver.find_elements_by_xpath(\"//div[@id='extrares']//a\")    # Find the div with id \"extrares\", then all links\n",
    "                                                                        # contained in the div\n",
    "num_common = len(lst_aRes)\n",
    "\n",
    "terms = set()\n",
    "for i in range(num_common):    # Go through this list (not wise to use the list itself here)\n",
    "    terms.add(lst_aRes[i].text)    # Add the term to the list\n",
    "    lst_aRes[i].click()    # Go to that page\n",
    "    sleep(5)\n",
    "    lst_aChildRes = driver.find_elements_by_xpath(\"//div[@id='extrares']//a\")\n",
    "    # Add all child terms to the set\n",
    "    for a in lst_aChildRes:\n",
    "        terms.add(a.text)\n",
    "    driver.back()    # One step back in the browser history\n",
    "    lst_aRes = driver.find_elements_by_xpath(\"//div[@id='extrares']//a\")\n",
    "    sleep(2)"
   ]
  },
  {
   "cell_type": "markdown",
   "metadata": {},
   "source": [
    "A better approach may have grabbed all the links we wanted to visit then visited them in the browser. We could have assembled such a list like so."
   ]
  },
  {
   "cell_type": "code",
   "execution_count": null,
   "metadata": {
    "collapsed": false
   },
   "outputs": [],
   "source": [
    "links = list()\n",
    "for a in lst_aRes:\n",
    "    links.append(a.get_attribute(\"href\"))    # Get the destination of the link\n",
    "\n",
    "links"
   ]
  },
  {
   "cell_type": "markdown",
   "metadata": {},
   "source": [
    "Nevertheless, we have a collection of related search terms."
   ]
  },
  {
   "cell_type": "code",
   "execution_count": null,
   "metadata": {
    "collapsed": false
   },
   "outputs": [],
   "source": [
    "terms"
   ]
  },
  {
   "cell_type": "markdown",
   "metadata": {},
   "source": [
    "A cool feature of Selenium is the ability to take screenshots. Here's a screenshot of the driver as it currently is."
   ]
  },
  {
   "cell_type": "code",
   "execution_count": null,
   "metadata": {
    "collapsed": true
   },
   "outputs": [],
   "source": [
    "from IPython.display import Image    # Just to view images"
   ]
  },
  {
   "cell_type": "code",
   "execution_count": null,
   "metadata": {
    "collapsed": false
   },
   "outputs": [],
   "source": [
    "driver.get_screenshot_as_file(\"screenshot.png\")    # Save a screenshot of the current view\n",
    "Image(\"screenshot.png\")"
   ]
  },
  {
   "cell_type": "code",
   "execution_count": null,
   "metadata": {
    "collapsed": false
   },
   "outputs": [],
   "source": [
    "driver.close()    # We're done"
   ]
  }
 ],
 "metadata": {
  "kernelspec": {
   "display_name": "Python 3",
   "language": "python",
   "name": "python3"
  },
  "language_info": {
   "codemirror_mode": {
    "name": "ipython",
    "version": 3
   },
   "file_extension": ".py",
   "mimetype": "text/x-python",
   "name": "python",
   "nbconvert_exporter": "python",
   "pygments_lexer": "ipython3",
   "version": "3.6.0"
  }
 },
 "nbformat": 4,
 "nbformat_minor": 2
}
