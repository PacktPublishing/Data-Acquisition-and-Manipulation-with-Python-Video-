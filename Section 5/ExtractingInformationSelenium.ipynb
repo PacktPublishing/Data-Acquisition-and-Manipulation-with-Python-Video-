{
 "cells": [
  {
   "cell_type": "markdown",
   "metadata": {},
   "source": [
    "# Extracting Information with Selenium\n",
    "*Curtis Miller*\n",
    "\n",
    "Selenium is a good tool to choose for data extraction when the content of a webpage changes. JavaScript in particular changes the content of the DOM and so needs to be handled in a special way.\n",
    "\n",
    "The webpage for the archive of [Pycoder's Weekly](http://pycoders.com/), a weekly Python newsletter, is an example of a webpage where content is not initially present in the DOM when the page is loaded. As a result, if you were to use BeautifulSoup on the HTML document returned by the server, you would not get the content you expected if you looked at the page.\n",
    "\n",
    "We can use Selenium to get around this problem."
   ]
  },
  {
   "cell_type": "code",
   "execution_count": null,
   "metadata": {
    "collapsed": true
   },
   "outputs": [],
   "source": [
    "from bs4 import BeautifulSoup\n",
    "from selenium import webdriver\n",
    "# The following is needed for waiting support in Selenium\n",
    "from selenium.webdriver.common.by import By\n",
    "from selenium.webdriver.support.ui import WebDriverWait\n",
    "from selenium.webdriver.support import expected_conditions as EC\n",
    "\n",
    "import requests"
   ]
  },
  {
   "cell_type": "markdown",
   "metadata": {},
   "source": [
    "Let's demonstrate the problem by trying to get a list of links to [Pycoder's Weekly archive](http://pycoders.com/archive/) using just **requests** and BeautifulSoup."
   ]
  },
  {
   "cell_type": "code",
   "execution_count": null,
   "metadata": {
    "collapsed": false
   },
   "outputs": [],
   "source": [
    "session = requests.Session()\n",
    "url = \"http://pycoders.com/archive/\"\n",
    "page = session.get(url).text\n",
    "bsObj = BeautifulSoup(page)\n",
    "\n",
    "# Get all links\n",
    "links_naive = dict()\n",
    "for a in bsObj.findAll(\"a\"):\n",
    "    links_naive[a.contents[0]] = a.attrs[\"href\"]\n",
    "\n",
    "links_naive"
   ]
  },
  {
   "cell_type": "markdown",
   "metadata": {},
   "source": [
    "We know there should be many more links than this.\n",
    "\n",
    "We will start a Selenium session that visits t e webpage in question. We instruct the bot to wait until it detects a certain element in the DOM. Once it notices that element has been added, it moves forward.\n",
    "\n",
    "**Note: The content of this webpage may change, which could break this code.**"
   ]
  },
  {
   "cell_type": "code",
   "execution_count": null,
   "metadata": {
    "collapsed": false
   },
   "outputs": [],
   "source": [
    "path = \"chromedriver\"    # Depends on system/OS/etc.\n",
    "driver = webdriver.Chrome(executable_path=path)\n",
    "driver.get(url)\n",
    "\n",
    "# Wait until the div with class \"display_archive\" appears\n",
    "wait = WebDriverWait(driver, 120, 1)    # An object that uses driver and will wait 120 seconds for a condition until\n",
    "                                        # timing out, checking every 1 second\n",
    "wait.until(EC.presence_of_element_located((By.CLASS_NAME, \"display_archive\")))    # This will wait until an element with\n",
    "                                                                                  # class \"display_archive\" is present in\n",
    "                                                                                  # the DOM\n",
    "\n",
    "# At this phase we could use Selenium to get data, but we can also request the page source at this point in time and use\n",
    "# BeautifulSoup for data extraction.\n",
    "bsObj = BeautifulSoup(driver.page_source)\n",
    "# Get all links\n",
    "links_pro = dict()\n",
    "for a in bsObj.findAll(\"a\"):\n",
    "    links_pro[a.contents[0]] = a.attrs[\"href\"]\n",
    "\n",
    "links_pro"
   ]
  },
  {
   "cell_type": "code",
   "execution_count": null,
   "metadata": {
    "collapsed": true
   },
   "outputs": [],
   "source": [
    "driver.close()"
   ]
  }
 ],
 "metadata": {
  "kernelspec": {
   "display_name": "Python 3",
   "language": "python",
   "name": "python3"
  },
  "language_info": {
   "codemirror_mode": {
    "name": "ipython",
    "version": 3
   },
   "file_extension": ".py",
   "mimetype": "text/x-python",
   "name": "python",
   "nbconvert_exporter": "python",
   "pygments_lexer": "ipython3",
   "version": "3.6.0"
  }
 },
 "nbformat": 4,
 "nbformat_minor": 2
}
