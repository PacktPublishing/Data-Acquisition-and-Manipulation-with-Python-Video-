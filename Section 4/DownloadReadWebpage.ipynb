{
 "cells": [
  {
   "cell_type": "markdown",
   "metadata": {},
   "source": [
    "# Downloading and Reading a Webpage\n",
    "*Curtis Miller*\n",
    "\n",
    "We've seen the basics of using BeautifulSoup; now let's see reading a single webpage in action.\n",
    "\n",
    "In this document we will read the [list of Nobel laureates](https://en.wikipedia.org/wiki/List_of_Nobel_laureates). We will extract the names and links to pages so we can get their birthdays."
   ]
  },
  {
   "cell_type": "code",
   "execution_count": null,
   "metadata": {
    "collapsed": true
   },
   "outputs": [],
   "source": [
    "from bs4 import BeautifulSoup\n",
    "import requests"
   ]
  },
  {
   "cell_type": "code",
   "execution_count": null,
   "metadata": {
    "collapsed": false
   },
   "outputs": [],
   "source": [
    "session = requests.Session()\n",
    "header = {\"Accept\": \"text/html,application/xhtml+xml,application/xml;q=0.9,*/*;q=0.8\",\n",
    "          \"Accept-Language\": \"en-US,en;q=0.5\",\n",
    "          \"Connection\": \"keep-alive\",\n",
    "          \"Referrer\": \"https://www.google.com/\",\n",
    "          \"User-Agent\": \"Mozilla/5.0 (X11; Ubuntu; Linux i686; rv:54.0) Gecko/20100101 Firefox/54.0\"}\n",
    "\n",
    "# The URL we are visiting\n",
    "url = \"https://en.wikipedia.org/wiki/List_of_Nobel_laureates\"\n",
    "page = session.get(url, headers=header).text\n",
    "nobelList = BeautifulSoup(page)"
   ]
  },
  {
   "cell_type": "code",
   "execution_count": null,
   "metadata": {
    "collapsed": false
   },
   "outputs": [],
   "source": [
    "# Locate the particular table we want\n",
    "nobelListTable = nobelList.find(\"table\", {\"class\": [\"wikitable\", \"sortable\"]})\n",
    "nobelListTable"
   ]
  },
  {
   "cell_type": "code",
   "execution_count": null,
   "metadata": {
    "collapsed": false
   },
   "outputs": [],
   "source": [
    "nobelListTable.findAll(\"td\")    # td tags contain the data we want"
   ]
  },
  {
   "cell_type": "code",
   "execution_count": null,
   "metadata": {
    "collapsed": false
   },
   "outputs": [],
   "source": [
    "for node in nobelListTable.findAll(\"td\"):    # Getting all links we want\n",
    "    print(node.a)"
   ]
  },
  {
   "cell_type": "code",
   "execution_count": null,
   "metadata": {
    "collapsed": false
   },
   "outputs": [],
   "source": [
    "links = dict()    # Will contain names and links\n",
    "for node in nobelListTable.findAll(\"td\"):\n",
    "    if node.a != None:\n",
    "        links[node.a.contents[0]] = node.a.attrs[\"href\"]   # Name: Link format\n",
    "\n",
    "links"
   ]
  },
  {
   "cell_type": "markdown",
   "metadata": {},
   "source": [
    "In the next video we will turn this list of links into a dataset we will analyze."
   ]
  }
 ],
 "metadata": {
  "kernelspec": {
   "display_name": "Python 3",
   "language": "python",
   "name": "python3"
  },
  "language_info": {
   "codemirror_mode": {
    "name": "ipython",
    "version": 3
   },
   "file_extension": ".py",
   "mimetype": "text/x-python",
   "name": "python",
   "nbconvert_exporter": "python",
   "pygments_lexer": "ipython3",
   "version": "3.6.0"
  }
 },
 "nbformat": 4,
 "nbformat_minor": 2
}
