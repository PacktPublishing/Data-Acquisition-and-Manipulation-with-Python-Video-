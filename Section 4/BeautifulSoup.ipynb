{
 "cells": [
  {
   "cell_type": "markdown",
   "metadata": {},
   "source": [
    "# Let's Have a **BeautifulSoup**\n",
    "*Curtis Miller*\n",
    "\n",
    "In this document we will see some basic usage of navigating the web with **BeautifulSoup**.\n",
    "\n",
    "First, let's load in libraries."
   ]
  },
  {
   "cell_type": "code",
   "execution_count": null,
   "metadata": {
    "collapsed": true
   },
   "outputs": [],
   "source": [
    "import requests\n",
    "from bs4 import BeautifulSoup"
   ]
  },
  {
   "cell_type": "markdown",
   "metadata": {},
   "source": [
    "Let's set a header that will make our scraper look more \"human\" (just to be safe, and to see how it's done), then download a webpage from Wikipedia containing a [list of Nobel laureates](https://en.wikipedia.org/wiki/List_of_Nobel_laureates)."
   ]
  },
  {
   "cell_type": "code",
   "execution_count": null,
   "metadata": {
    "collapsed": false
   },
   "outputs": [],
   "source": [
    "session = requests.Session()\n",
    "# Our \"human\" header; go to https://www.whatismybrowser.com/ to see what the Internet can see about your browser,\n",
    "# including what your header is. Below are the settings for a browser I used.\n",
    "header = {\"Accept\": \"text/html,application/xhtml+xml,application/xml;q=0.9,*/*;q=0.8\",\n",
    "          \"Accept-Language\": \"en-US,en;q=0.5\",\n",
    "          \"Connection\": \"keep-alive\",\n",
    "          \"Referrer\": \"https://www.google.com/\",\n",
    "          \"User-Agent\": \"Mozilla/5.0 (X11; Ubuntu; Linux i686; rv:54.0) Gecko/20100101 Firefox/54.0\"}\n",
    "\n",
    "# The URL we are visiting\n",
    "url = \"https://en.wikipedia.org/wiki/List_of_Nobel_laureates\"\n",
    "# Visit the url, using the header just defined\n",
    "page = session.get(url, headers=header).text\n",
    "# A preview of the content\n",
    "print(page)"
   ]
  },
  {
   "cell_type": "markdown",
   "metadata": {},
   "source": [
    "Let's create a `BeautifulSoup` object to parse this document."
   ]
  },
  {
   "cell_type": "code",
   "execution_count": null,
   "metadata": {
    "collapsed": false
   },
   "outputs": [],
   "source": [
    "nobelList = BeautifulSoup(page)    # A warning will be thrown since no parser was specified\n",
    "                                   # BeautifulSoup will choose to use the best parser available in this case"
   ]
  },
  {
   "cell_type": "markdown",
   "metadata": {},
   "source": [
    "Now that we have the object let's see some common tools."
   ]
  },
  {
   "cell_type": "code",
   "execution_count": null,
   "metadata": {
    "collapsed": false
   },
   "outputs": [],
   "source": [
    "nobelList.find(\"a\")    # Find a single link"
   ]
  },
  {
   "cell_type": "code",
   "execution_count": null,
   "metadata": {
    "collapsed": false
   },
   "outputs": [],
   "source": [
    "nobelList.findAll(\"a\")    # Find all links (returns in a list)"
   ]
  },
  {
   "cell_type": "code",
   "execution_count": null,
   "metadata": {
    "collapsed": false
   },
   "outputs": [],
   "source": [
    "nobelList.findAll(\"a\", {\"class\": \"internal\"})    # Find all links with a particular class"
   ]
  },
  {
   "cell_type": "code",
   "execution_count": null,
   "metadata": {
    "collapsed": false
   },
   "outputs": [],
   "source": [
    "nobelList.findAll(\"a\", {\"class\": \"internal\"})[0].\\\n",
    "    attrs[\"href\"]                                     # For the first link, get its destination"
   ]
  },
  {
   "cell_type": "code",
   "execution_count": null,
   "metadata": {
    "collapsed": false
   },
   "outputs": [],
   "source": [
    "nobelList.find(\"h1\")"
   ]
  },
  {
   "cell_type": "code",
   "execution_count": null,
   "metadata": {
    "collapsed": false
   },
   "outputs": [],
   "source": [
    "nobelList.find(\"h1\").contents    # Get the contents of a tag"
   ]
  },
  {
   "cell_type": "code",
   "execution_count": null,
   "metadata": {
    "collapsed": false
   },
   "outputs": [],
   "source": [
    "nobelList.table    # Another way to locate elements; this time, a table"
   ]
  },
  {
   "cell_type": "code",
   "execution_count": null,
   "metadata": {
    "collapsed": false
   },
   "outputs": [],
   "source": [
    "nobelList.table.attrs[\"class\"]    # This belongs to two classes"
   ]
  },
  {
   "cell_type": "code",
   "execution_count": null,
   "metadata": {
    "collapsed": false
   },
   "outputs": [],
   "source": [
    "nobelList.find(\"table\", {\"class\": [\"wikitable\", \"sortable\"]})    # A way to find elements with multiple classes"
   ]
  },
  {
   "cell_type": "markdown",
   "metadata": {},
   "source": [
    "We can drill down through the DOM of a document and each layer has the same methods as the original object."
   ]
  },
  {
   "cell_type": "code",
   "execution_count": null,
   "metadata": {
    "collapsed": false
   },
   "outputs": [],
   "source": [
    "nobelList.table.children     # Child nodes of this node; gives an iterator"
   ]
  },
  {
   "cell_type": "code",
   "execution_count": null,
   "metadata": {
    "collapsed": false
   },
   "outputs": [],
   "source": [
    "# Let's see what nodes are children\n",
    "for node in nobelList.table.children:\n",
    "    print(\"\\nNode:\\n-----\")\n",
    "    print(\"Name: %s\" % node.name)    # The HTML name of a tag\n",
    "    print(node)"
   ]
  },
  {
   "cell_type": "code",
   "execution_count": null,
   "metadata": {
    "collapsed": false
   },
   "outputs": [],
   "source": [
    "nobelList.table.tr    # The first row of the table"
   ]
  },
  {
   "cell_type": "code",
   "execution_count": null,
   "metadata": {
    "collapsed": false
   },
   "outputs": [],
   "source": [
    "nobelList.table.findAll(\"td\")"
   ]
  },
  {
   "cell_type": "code",
   "execution_count": null,
   "metadata": {
    "collapsed": false
   },
   "outputs": [],
   "source": [
    "nobelList.table.parent    # Locating the parent node"
   ]
  }
 ],
 "metadata": {
  "kernelspec": {
   "display_name": "Python 3",
   "language": "python",
   "name": "python3"
  },
  "language_info": {
   "codemirror_mode": {
    "name": "ipython",
    "version": 3
   },
   "file_extension": ".py",
   "mimetype": "text/x-python",
   "name": "python",
   "nbconvert_exporter": "python",
   "pygments_lexer": "ipython3",
   "version": "3.6.0"
  }
 },
 "nbformat": 4,
 "nbformat_minor": 2
}
