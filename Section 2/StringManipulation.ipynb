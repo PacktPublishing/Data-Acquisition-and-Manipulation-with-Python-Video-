{
 "cells": [
  {
   "cell_type": "markdown",
   "metadata": {},
   "source": [
    "# String Manipulation\n",
    "*Curtis Miller*\n",
    "\n",
    "Python is well equipped to manipulate strings. Common tasks include changing string format, finding substrings, and replacing string contents.\n",
    "\n",
    "## Changing String Format\n",
    "We can change the contents of strings to be more amenable to our analyses. Let's demonstrate on the opening paragraph of *Moby Dick*."
   ]
  },
  {
   "cell_type": "code",
   "execution_count": null,
   "metadata": {
    "collapsed": true
   },
   "outputs": [],
   "source": [
    "from pandas import DataFrame\n",
    "import re, string    # Useful libraries\n",
    "from datetime import datetime"
   ]
  },
  {
   "cell_type": "code",
   "execution_count": null,
   "metadata": {
    "collapsed": false
   },
   "outputs": [],
   "source": [
    "moby = \"Call me Ishmael. Some years ago - never mind how long precisely - having little or no money in my purse, and nothing particular to interest me on shore, I thought I would sail about a little and see the watery part of the world. It is a way I have of driving off the spleen and regulating the circulation. Whenever I find myself growing grim about the mouth; whenever it is a damp, drizzly November in my soul; whenever I find myself involuntarily pausing before coffin warehouses, and bringing up the rear of every funeral I meet; and especially whenever my hypos get such an upper hand of me, that it requires a strong moral principle to prevent me from deliberately stepping into the street, and methodically knocking people's hats off - then, I account it high time to get to sea as soon as I can. This is my substitute for pistol and ball. With a philosophical flourish Cato throws himself upon his sword; I quietly take to the ship. There is nothing surprising in this. If they but knew it, almost all men in their degree, some time or other, cherish very nearly the same feelings towards the ocean with me. \"\n",
    "moby"
   ]
  },
  {
   "cell_type": "code",
   "execution_count": null,
   "metadata": {
    "collapsed": false
   },
   "outputs": [],
   "source": [
    "print(moby.upper())"
   ]
  },
  {
   "cell_type": "code",
   "execution_count": null,
   "metadata": {
    "collapsed": false,
    "scrolled": true
   },
   "outputs": [],
   "source": [
    "print(moby.lower())"
   ]
  },
  {
   "cell_type": "code",
   "execution_count": null,
   "metadata": {
    "collapsed": false
   },
   "outputs": [],
   "source": [
    "moby2 = moby.lower().split(\" \")    # Make lowercase and split at spaces\n",
    "moby2[0:10]"
   ]
  },
  {
   "cell_type": "code",
   "execution_count": null,
   "metadata": {
    "collapsed": false
   },
   "outputs": [],
   "source": [
    "\"-\".join(moby2[:10])    # Form new string"
   ]
  },
  {
   "cell_type": "code",
   "execution_count": null,
   "metadata": {
    "collapsed": false
   },
   "outputs": [],
   "source": [
    "string.punctuation"
   ]
  },
  {
   "cell_type": "code",
   "execution_count": null,
   "metadata": {
    "collapsed": false
   },
   "outputs": [],
   "source": [
    "moby3 = \"\".join(c for c in moby.lower() if c not in string.punctuation)    # Remove punctuation\n",
    "print(moby3)"
   ]
  },
  {
   "cell_type": "code",
   "execution_count": null,
   "metadata": {
    "collapsed": false
   },
   "outputs": [],
   "source": [
    "# There is extra whitespace at the end; let's remove it\n",
    "moby3.strip()"
   ]
  },
  {
   "cell_type": "code",
   "execution_count": null,
   "metadata": {
    "collapsed": false
   },
   "outputs": [],
   "source": [
    "moby3 = moby3.strip()\n",
    "# Replace all \"extra\" whitespace with exactly one space; need regular expressions\n",
    "moby3 = re.sub('\\s+', ' ', moby3)    # \\s+ detects one whitespace character or more\n",
    "moby3"
   ]
  },
  {
   "cell_type": "code",
   "execution_count": null,
   "metadata": {
    "collapsed": false
   },
   "outputs": [],
   "source": [
    "# Now we can get a character vector containing just words\n",
    "moby4 = moby3.split(\" \")\n",
    "moby4[:10]"
   ]
  },
  {
   "cell_type": "markdown",
   "metadata": {},
   "source": [
    "## Finding Substrings with Regular Expressions\n",
    "\n",
    "Getting substrings can be as simple or as complex as you need. Here, I demonstrate identifying useful information using regular expressings. I read in a log file I obtained from [here](http://www.monitorware.com/en/logsamples/apache.php). I'll be extracting information from this log file, reading line-by-line and putting the data in a list of dictionaries. (You can read more about setting up the expressions [here](https://docs.python.org/3/library/re.html).)"
   ]
  },
  {
   "cell_type": "code",
   "execution_count": null,
   "metadata": {
    "collapsed": false
   },
   "outputs": [],
   "source": [
    "sample_line = \"64.242.88.10 - - [07/Mar/2004:16:06:51 -0800] \\\"GET /twiki/bin/rdiff/TWiki/NewUserTemplate?rev1=1.3&rev2=1.2 HTTP/1.1\\\" 200 4523\"\n",
    "print(sample_line)"
   ]
  },
  {
   "cell_type": "code",
   "execution_count": null,
   "metadata": {
    "collapsed": false
   },
   "outputs": [],
   "source": [
    "# Format: Caller - - [datetime -port] \"REQUEST\" response_code length\n",
    "# Now we develop a regex string to extract this information from the log file\n",
    "caller_regex = \"[\\x21-\\x7E]+(?= - - )\"    # Match printable characters at least once, followed by \" - - \"\n",
    "time_regex = \"[0-9]{2}/[a-zA-Z]{3}/[0-9]{4}:[0-9]{2}:[0-9]{2}:[0-9]{2}\"    # Match date/time in ##/AAA/####:##:##:## form\n",
    "port_regex = \"(?<=-)[0-9]{4}(?=\\])\"    # Match a port as four digits preceded by '-' and followed by ']'\n",
    "request_regex = \"(?<=\\\").+(?=\\\")\"     # Match a request, wrapped in quotes\n",
    "trailing_regex = \"(?<=\\\" )[0-9]+ [0-9]+\"    # Match the last two numbers, preceded by \""
   ]
  },
  {
   "cell_type": "code",
   "execution_count": null,
   "metadata": {
    "collapsed": false
   },
   "outputs": [],
   "source": [
    "# Compile regex identifiers\n",
    "caller_prog = re.compile(caller_regex)\n",
    "time_prog = re.compile(time_regex)\n",
    "port_prog = re.compile(port_regex)\n",
    "request_prog = re.compile(request_regex)\n",
    "trailing_prog = re.compile(trailing_regex)\n",
    "\n",
    "# Test\n",
    "caller_prog.search(sample_line)"
   ]
  },
  {
   "cell_type": "code",
   "execution_count": null,
   "metadata": {
    "collapsed": false
   },
   "outputs": [],
   "source": [
    "caller_prog.search(sample_line).group(0)"
   ]
  },
  {
   "cell_type": "code",
   "execution_count": null,
   "metadata": {
    "collapsed": false
   },
   "outputs": [],
   "source": [
    "time_prog.search(sample_line).group(0)"
   ]
  },
  {
   "cell_type": "code",
   "execution_count": null,
   "metadata": {
    "collapsed": false
   },
   "outputs": [],
   "source": [
    "port_prog.search(sample_line).group(0)"
   ]
  },
  {
   "cell_type": "code",
   "execution_count": null,
   "metadata": {
    "collapsed": false
   },
   "outputs": [],
   "source": [
    "request_prog.search(sample_line).group(0)"
   ]
  },
  {
   "cell_type": "code",
   "execution_count": null,
   "metadata": {
    "collapsed": false
   },
   "outputs": [],
   "source": [
    "trailing_prog.search(sample_line).group(0)"
   ]
  },
  {
   "cell_type": "code",
   "execution_count": null,
   "metadata": {
    "collapsed": false,
    "scrolled": false
   },
   "outputs": [],
   "source": [
    "# Now let's turn this log file into a data file\n",
    "req = list()\n",
    "with open(\"logfile.txt\") as f:\n",
    "    for line in f:\n",
    "        linestr = str(line)    # Turn line to string\n",
    "        # Variables to hold our data; will be added into a dict\n",
    "        #print(linestr)\n",
    "        #\"\"\"\n",
    "        caller = caller_prog.search(linestr).group(0)\n",
    "        calltime = time_prog.search(linestr).group(0)\n",
    "        port = port_prog.search(linestr).group(0)\n",
    "        request = request_prog.search(linestr).group(0)\n",
    "        finalnum = trailing_prog.search(linestr).group(0).split(\" \")\n",
    "        req.append({\"caller\": caller,\n",
    "                    # Create a datetime object to manage the time; parse the string to infer appropriate time\n",
    "                    \"time\": datetime.strptime(calltime, \"%d/%b/%Y:%H:%M:%S\"),\n",
    "                    \"port\": port,\n",
    "                    \"request\": request,\n",
    "                    \"status\": finalnum[0],\n",
    "                    \"size\": int(finalnum[1])})\n",
    "        #\"\"\"\n",
    "\n",
    "req[:5]"
   ]
  },
  {
   "cell_type": "code",
   "execution_count": null,
   "metadata": {
    "collapsed": false,
    "scrolled": false
   },
   "outputs": [],
   "source": [
    "# A dataframe containing this data\n",
    "df = DataFrame(req)\n",
    "df"
   ]
  },
  {
   "cell_type": "markdown",
   "metadata": {},
   "source": [
    "## Replacing Contents with `format()`\n",
    "\n",
    "If we can extract information from strings we can certainly put it into them. Here I demonstrate using the string method `format()` for creating formatted strings."
   ]
  },
  {
   "cell_type": "code",
   "execution_count": null,
   "metadata": {
    "collapsed": false
   },
   "outputs": [],
   "source": [
    "\"My bonnie lies over the {}.\".format(\"ocean\")    # Replace {} with \"ocean\""
   ]
  },
  {
   "cell_type": "code",
   "execution_count": null,
   "metadata": {
    "collapsed": false
   },
   "outputs": [],
   "source": [
    "\"My {} lies over the {}.\".format(\"bonnie\", \"sea\")    # Done in order"
   ]
  },
  {
   "cell_type": "code",
   "execution_count": null,
   "metadata": {
    "collapsed": false
   },
   "outputs": [],
   "source": [
    "\"My {1} lies over the {0}.\".format(\"ocean\", \"bonnie\")    # Give numbers for which argument to substitute"
   ]
  },
  {
   "cell_type": "code",
   "execution_count": null,
   "metadata": {
    "collapsed": false
   },
   "outputs": [],
   "source": [
    "\"Oh {verb} back my {noun} to me!\".format(verb=\"bring\", noun=\"bonnie\")    # Keyword arguments"
   ]
  },
  {
   "cell_type": "code",
   "execution_count": null,
   "metadata": {
    "collapsed": false
   },
   "outputs": [],
   "source": [
    "# Let's generate a revised log file that contains the same data but in a new format.\n",
    "logline_template = \"\".join([\"{time}: Client {caller} sent request \\\"{request}\\\" on port {port}; request returned code \",\n",
    "                            \"{status} with packet size {size}.\\n\"])\n",
    "print(logline_template)"
   ]
  },
  {
   "cell_type": "code",
   "execution_count": null,
   "metadata": {
    "collapsed": false
   },
   "outputs": [],
   "source": [
    "# A demonstration\n",
    "s = df.iloc[0]\n",
    "s"
   ]
  },
  {
   "cell_type": "code",
   "execution_count": null,
   "metadata": {
    "collapsed": false
   },
   "outputs": [],
   "source": [
    "print(logline_template.format(**s))"
   ]
  },
  {
   "cell_type": "code",
   "execution_count": null,
   "metadata": {
    "collapsed": false
   },
   "outputs": [],
   "source": [
    "loglines = df.apply(lambda s: logline_template.format(**s), axis=1)\n",
    "loglines.head()"
   ]
  },
  {
   "cell_type": "code",
   "execution_count": null,
   "metadata": {
    "collapsed": false
   },
   "outputs": [],
   "source": [
    "logstring = \"\".join(loglines.tolist())\n",
    "print(logstring)"
   ]
  },
  {
   "cell_type": "markdown",
   "metadata": {},
   "source": [
    "Regular expressions can also be used for replacing substrings."
   ]
  }
 ],
 "metadata": {
  "kernelspec": {
   "display_name": "Python 3",
   "language": "python",
   "name": "python3"
  },
  "language_info": {
   "codemirror_mode": {
    "name": "ipython",
    "version": 3
   },
   "file_extension": ".py",
   "mimetype": "text/x-python",
   "name": "python",
   "nbconvert_exporter": "python",
   "pygments_lexer": "ipython3",
   "version": "3.6.0"
  }
 },
 "nbformat": 4,
 "nbformat_minor": 2
}
