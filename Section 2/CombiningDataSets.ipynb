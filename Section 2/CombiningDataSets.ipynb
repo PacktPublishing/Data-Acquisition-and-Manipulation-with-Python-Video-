{
 "cells": [
  {
   "cell_type": "markdown",
   "metadata": {},
   "source": [
    "# Combining and Merging Datasets\n",
    "*Curtis Miller*\n",
    "\n",
    "In this notebook I demonstrate how to combine data sets using **pandas**. To demonstrate, we will be combining Apple stock closing prices (ticker symbol AAPL) with Apple's earnings per share (EPS). (Data obtained from [Quandl](https://www.quandl.com) and [Nasdaq](https://www.nasdaq.com).)\n",
    "\n",
    "Let's load in CSV files containing these datasets."
   ]
  },
  {
   "cell_type": "code",
   "execution_count": null,
   "metadata": {
    "collapsed": true
   },
   "outputs": [],
   "source": [
    "import pandas as pd\n",
    "from pandas import Series, DataFrame\n",
    "%matplotlib inline"
   ]
  },
  {
   "cell_type": "code",
   "execution_count": null,
   "metadata": {
    "collapsed": false
   },
   "outputs": [],
   "source": [
    "close = pd.read_csv(\"AAPL-Close-15-17.csv\", index_col=\"date\")\n",
    "close.head()"
   ]
  },
  {
   "cell_type": "code",
   "execution_count": null,
   "metadata": {
    "collapsed": false
   },
   "outputs": [],
   "source": [
    "close.plot()"
   ]
  },
  {
   "cell_type": "code",
   "execution_count": null,
   "metadata": {
    "collapsed": false
   },
   "outputs": [],
   "source": [
    "eps = pd.read_csv(\"AAPL-EPS-15-17.csv\", index_col=\"Date\")\n",
    "eps.head()"
   ]
  },
  {
   "cell_type": "code",
   "execution_count": null,
   "metadata": {
    "collapsed": false
   },
   "outputs": [],
   "source": [
    "eps.plot()"
   ]
  },
  {
   "cell_type": "markdown",
   "metadata": {},
   "source": [
    "We can use the `DataFrame` method `join()` to combine these two datasets. Joins happen on an index, by default the index of the `DataFrame`s (though this can be changed). The product will be a `DataFrame` with the combined dataset. There are four types of joins (analogous to joins in SQL):\n",
    "\n",
    "* `\"inner\"`: Only rows with a common index will be joined.\n",
    "* `\"outer\"`: Every index present in both tables will have a row, but some information will be missing for rows that are not shared (`np.nan`).\n",
    "* `\"left\"`: Every row in the left dataset (the one calling `join()`, in this case) will be included in the end result.\n",
    "* `\"right\"`: Every row in the right dataset (the argument of `join()`, in this case) will be included in the end result.\n",
    "\n",
    "I demonstrate these below."
   ]
  },
  {
   "cell_type": "code",
   "execution_count": null,
   "metadata": {
    "collapsed": false
   },
   "outputs": [],
   "source": [
    "# Get a common datetime format\n",
    "close.index    # Notie not being called a date"
   ]
  },
  {
   "cell_type": "code",
   "execution_count": null,
   "metadata": {
    "collapsed": false
   },
   "outputs": [],
   "source": [
    "eps.index"
   ]
  },
  {
   "cell_type": "code",
   "execution_count": null,
   "metadata": {
    "collapsed": false
   },
   "outputs": [],
   "source": [
    "pd.to_datetime(close.index)    # This is better"
   ]
  },
  {
   "cell_type": "code",
   "execution_count": null,
   "metadata": {
    "collapsed": false
   },
   "outputs": [],
   "source": [
    "pd.to_datetime(eps.index)"
   ]
  },
  {
   "cell_type": "code",
   "execution_count": null,
   "metadata": {
    "collapsed": false
   },
   "outputs": [],
   "source": [
    "close.index = pd.to_datetime(close.index)\n",
    "eps.index = pd.to_datetime(eps.index)\n",
    "close.head()"
   ]
  },
  {
   "cell_type": "code",
   "execution_count": null,
   "metadata": {
    "collapsed": false
   },
   "outputs": [],
   "source": [
    "eps.head()"
   ]
  },
  {
   "cell_type": "code",
   "execution_count": null,
   "metadata": {
    "collapsed": false
   },
   "outputs": [],
   "source": [
    "close.join(eps, how=\"inner\")    # Inner join"
   ]
  },
  {
   "cell_type": "code",
   "execution_count": null,
   "metadata": {
    "collapsed": false
   },
   "outputs": [],
   "source": [
    "close.join(eps, how=\"outer\").head()    # Outer join"
   ]
  },
  {
   "cell_type": "code",
   "execution_count": null,
   "metadata": {
    "collapsed": false
   },
   "outputs": [],
   "source": [
    "close.join(eps, how=\"left\").head()    # Left join (compare to \"outer\")"
   ]
  },
  {
   "cell_type": "code",
   "execution_count": null,
   "metadata": {
    "collapsed": false
   },
   "outputs": [],
   "source": [
    "close.join(eps, how=\"right\")    # Right join (compare to \"inner\")"
   ]
  }
 ],
 "metadata": {
  "kernelspec": {
   "display_name": "Python [Root]",
   "language": "python",
   "name": "Python [Root]"
  },
  "language_info": {
   "codemirror_mode": {
    "name": "ipython",
    "version": 3
   },
   "file_extension": ".py",
   "mimetype": "text/x-python",
   "name": "python",
   "nbconvert_exporter": "python",
   "pygments_lexer": "ipython3",
   "version": "3.5.2"
  }
 },
 "nbformat": 4,
 "nbformat_minor": 0
}
