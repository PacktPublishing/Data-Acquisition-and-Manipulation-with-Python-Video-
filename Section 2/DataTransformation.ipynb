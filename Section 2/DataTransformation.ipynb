{
 "cells": [
  {
   "cell_type": "markdown",
   "metadata": {},
   "source": [
    "# Data Transformation\n",
    "*Curtis Miller*\n",
    "\n",
    "In this notebook I describe further data transformation topics.\n",
    "\n",
    "## Binning Quantitative Data\n",
    "\n",
    "We may refer to data that can take any number within a certain range (or any finite number) as quantitative data, and data that falls into certain categories as categorical data.\n",
    "\n",
    "We cannot go from categorical data to quantitative data without imputation (and trouble) but we can turn quantitative data into categorical data by binning. That is, we don't report the number; we only report that it fell into one of several bins, which, collectively, account for all numbers taken in the dataset.\n",
    "\n",
    "Let's demonstrate. First, load in a dataset."
   ]
  },
  {
   "cell_type": "code",
   "execution_count": null,
   "metadata": {
    "collapsed": true
   },
   "outputs": [],
   "source": [
    "import pandas as pd\n",
    "%matplotlib inline"
   ]
  },
  {
   "cell_type": "code",
   "execution_count": null,
   "metadata": {
    "collapsed": false
   },
   "outputs": [],
   "source": [
    "pop_pyramids = pd.read_csv(\"PopPyramids.csv\", index_col=[\"Country\", \"Year\", \"Age\"])\n",
    "pop_pyramids = pop_pyramids.loc[:, [\"Male Population\", \"Female Population\"]]    # Only want two columns, for illustration\n",
    "pop_pyramids.columns = pd.Index([\"Male\", \"Female\"])\n",
    "pop_pyramids.head()"
   ]
  },
  {
   "cell_type": "markdown",
   "metadata": {},
   "source": [
    "To bin data, use the **pandas** function `cut()`, which will return a `Series` of binned data.\n",
    "\n",
    "We use this to bin population counts."
   ]
  },
  {
   "cell_type": "code",
   "execution_count": null,
   "metadata": {
    "collapsed": false,
    "scrolled": false
   },
   "outputs": [],
   "source": [
    "srs = pd.cut(pop_pyramids.Male, 10)    # Give number of bins; result is a categorical variable, in a Series\n",
    "srs"
   ]
  },
  {
   "cell_type": "code",
   "execution_count": null,
   "metadata": {
    "collapsed": false
   },
   "outputs": [],
   "source": [
    "srs.value_counts()"
   ]
  },
  {
   "cell_type": "code",
   "execution_count": null,
   "metadata": {
    "collapsed": false
   },
   "outputs": [],
   "source": [
    "srs.value_counts().plot(\"bar\")"
   ]
  },
  {
   "cell_type": "code",
   "execution_count": null,
   "metadata": {
    "collapsed": false
   },
   "outputs": [],
   "source": [
    "srs = pd.cut(pop_pyramids.Male, [0, 1000, 10000, 100000, 1000000, 10000000,    # Give bin edges\n",
    "                                 100000000])\n",
    "srs"
   ]
  },
  {
   "cell_type": "code",
   "execution_count": null,
   "metadata": {
    "collapsed": false
   },
   "outputs": [],
   "source": [
    "srs.value_counts()"
   ]
  },
  {
   "cell_type": "code",
   "execution_count": null,
   "metadata": {
    "collapsed": false
   },
   "outputs": [],
   "source": [
    "srs.value_counts().plot(\"bar\")"
   ]
  },
  {
   "cell_type": "markdown",
   "metadata": {},
   "source": [
    "## Clamping Quantitative Data\n",
    "\n",
    "Clamping restricts quantitative to a certain range. Data falling outside this range is replaced with the nearest endpoint of the range.\n",
    "\n",
    "Why clamp? If your clamping to prevent \"impossible\" values, be careful; there may be a better approach. (For example, in your data set of people with their ages, you might have one reported age be 220. This is clearly wrong and you might be tempted to clamp age so it cannot be less than 0 or more than 100. On the other hand, 100 might be inappropriate for correcting this error; perhaps the data entry professional typed \"220\" instead of \"20\" or \"22\".)\n",
    "\n",
    "I won't ask why you want to clamp; let's assume you have a good reason. The pandas method `clip()` can be used for clamping."
   ]
  },
  {
   "cell_type": "code",
   "execution_count": null,
   "metadata": {
    "collapsed": false
   },
   "outputs": [],
   "source": [
    "pop_pyramids.Male[\"China\"]"
   ]
  },
  {
   "cell_type": "code",
   "execution_count": null,
   "metadata": {
    "collapsed": false
   },
   "outputs": [],
   "source": [
    "srs = pop_pyramids.Male.clip(lower=0, upper=1000000)    # All data now within range [0, 1000000]\n",
    "srs[\"China\"]"
   ]
  },
  {
   "cell_type": "markdown",
   "metadata": {},
   "source": [
    "## Recoding and Replacing\n",
    "\n",
    "Some data sets encode certain data values in certain ways. Male/female in a survey could be recorded as:\n",
    "\n",
    "* Strings: `\"male\"` and `\"female\"`, or `\"M\"` and `\"F\"`\n",
    "* Numbers: `0` and `1`, or `1` and `0`, or `1` and `2`\n",
    "\n",
    "Sometimes missing data is recorded specially, like a missing age value could be coded as `999` (obviously not a real age). We may wish to replace these quantities with desired encodings.\n",
    "\n",
    "I generate a fictitious dataset below, censor it by giving \"missing\" data the value `999`, then replace `999` with `nan`."
   ]
  },
  {
   "cell_type": "code",
   "execution_count": null,
   "metadata": {
    "collapsed": true
   },
   "outputs": [],
   "source": [
    "import numpy as np\n",
    "from numpy.random import randn"
   ]
  },
  {
   "cell_type": "code",
   "execution_count": null,
   "metadata": {
    "collapsed": false
   },
   "outputs": [],
   "source": [
    "vec = (randn(12) * 10).round()\n",
    "vec[[1, 2, 5, 6]] = 999\n",
    "df = pd.DataFrame(vec.reshape(4, 3))\n",
    "df"
   ]
  },
  {
   "cell_type": "code",
   "execution_count": null,
   "metadata": {
    "collapsed": false
   },
   "outputs": [],
   "source": [
    "df.replace({999: np.nan}, inplace=True)    # Replacement scheme, done in place\n",
    "df"
   ]
  },
  {
   "cell_type": "code",
   "execution_count": null,
   "metadata": {
    "collapsed": false
   },
   "outputs": [],
   "source": [
    "df2 = pd.DataFrame({\"Sex\": ['m', 'f', 'f', 'f', 'm', 'f'],\n",
    "                    \"HoursSlept\": [6, 6, 9, 8, 5, 8]})\n",
    "df2"
   ]
  },
  {
   "cell_type": "code",
   "execution_count": null,
   "metadata": {
    "collapsed": false
   },
   "outputs": [],
   "source": [
    "df2.loc[:, \"Sex\"].replace({'m': 0, 'f': 1}, inplace=True)\n",
    "df2"
   ]
  },
  {
   "cell_type": "code",
   "execution_count": null,
   "metadata": {
    "collapsed": false
   },
   "outputs": [],
   "source": [
    "df2.mean()    # Interpretable value for Sex: it's the proportion of the sample that is female"
   ]
  },
  {
   "cell_type": "markdown",
   "metadata": {},
   "source": [
    "## Derivative Values\n",
    "\n",
    "Here we calculate useful statistics from existing data. For example, we can reconstruct the columns excluded from the `pop_pyramids` dataset."
   ]
  },
  {
   "cell_type": "code",
   "execution_count": null,
   "metadata": {
    "collapsed": false
   },
   "outputs": [],
   "source": [
    "pop_pyramids[\"Total\"] = pop_pyramids.Male + pop_pyramids.Female    # Total population\n",
    "pop_pyramids.head()"
   ]
  },
  {
   "cell_type": "code",
   "execution_count": null,
   "metadata": {
    "collapsed": false
   },
   "outputs": [],
   "source": [
    "pop_pyramids[\"MalePercentage\"] = pop_pyramids.Male / pop_pyramids.Total\n",
    "pop_pyramids.head()"
   ]
  },
  {
   "cell_type": "code",
   "execution_count": null,
   "metadata": {
    "collapsed": false
   },
   "outputs": [],
   "source": [
    "pop_pyramids[\"FemalePercentage\"] = pop_pyramids.Female / pop_pyramids.Total\n",
    "pop_pyramids.head()"
   ]
  },
  {
   "cell_type": "code",
   "execution_count": null,
   "metadata": {
    "collapsed": false,
    "scrolled": false
   },
   "outputs": [],
   "source": [
    "pop_pyramids[\"MaleFemaleRatio\"] = pop_pyramids.Male / pop_pyramids.Female\n",
    "pop_pyramids.head()"
   ]
  },
  {
   "cell_type": "code",
   "execution_count": null,
   "metadata": {
    "collapsed": false
   },
   "outputs": [],
   "source": [
    "# Which countries have most men to women?\n",
    "pop_pyramids.sort_index(inplace=True)    # Cannot do slicing without sorting first\n",
    "pop_pyramids.loc[(slice(None), 2017, \"Total\"), \"MaleFemaleRatio\"].sort_values(ascending=False)"
   ]
  },
  {
   "cell_type": "markdown",
   "metadata": {},
   "source": [
    "## Mathematical/Statistical Transformations\n",
    "\n",
    "Sometimes we want statistically transformed versions of the data. This is applying a mathematical function to the data and using a different number for analysis. For example:\n",
    "\n",
    "* We may use $z_i = \\frac{x_i - \\bar{x}}{s_x}$ to rescale/reshape data ($\\bar x$ is the data's mean, $s_x$ the data's average)\n",
    "* In time series, we may be interested in log-differences, where $r_t = \\log{x_t} - \\log{x_{t - 1}}$; this is done to, say, stock data\n",
    "\n",
    "This type of transformation can be done easily."
   ]
  },
  {
   "cell_type": "code",
   "execution_count": null,
   "metadata": {
    "collapsed": false
   },
   "outputs": [],
   "source": [
    "xbar = pop_pyramids.loc[pop_pyramids.index.get_level_values(2) != \"Total\",    # Exclude \"Total\" rows\n",
    "                        :].mean()    # Get mean population count\n",
    "xbar"
   ]
  },
  {
   "cell_type": "code",
   "execution_count": null,
   "metadata": {
    "collapsed": false
   },
   "outputs": [],
   "source": [
    "stdev = pop_pyramids.loc[pop_pyramids.index.get_level_values(2) != \"Total\",    # Exclude \"Total\" rows\n",
    "                         :].std()    # Get mean population count\n",
    "stdev"
   ]
  },
  {
   "cell_type": "code",
   "execution_count": null,
   "metadata": {
    "collapsed": false,
    "scrolled": false
   },
   "outputs": [],
   "source": [
    "# Centering at 0/scaling to 1\n",
    "pop_pyramids[\"ScaledCenteredTotal\"] = (pop_pyramids[\"Total\"] - xbar[\"Total\"]) / stdev[\"Total\"]\n",
    "pop_pyramids.loc[(slice(None), slice(None), \"Total\"), \"ScaledCenteredTotal\"] = np.nan    # Missing because nonsense\n",
    "pop_pyramids.loc[(\"Afghanistan\", 2016), :]"
   ]
  },
  {
   "cell_type": "code",
   "execution_count": null,
   "metadata": {
    "collapsed": false
   },
   "outputs": [],
   "source": [
    "# log populations\n",
    "pop_pyramids[\"LogMale\"] = np.log10(pop_pyramids.Male) + 1    # The log function with base 10\n",
    "pop_pyramids[\"LogFemale\"] = np.log10(pop_pyramids.Female) + 1\n",
    "pop_pyramids[\"LogTotal\"] = np.log10(pop_pyramids.Total) + 1\n",
    "pop_pyramids.head()"
   ]
  }
 ],
 "metadata": {
  "kernelspec": {
   "display_name": "Python [Root]",
   "language": "python",
   "name": "Python [Root]"
  },
  "language_info": {
   "codemirror_mode": {
    "name": "ipython",
    "version": 3
   },
   "file_extension": ".py",
   "mimetype": "text/x-python",
   "name": "python",
   "nbconvert_exporter": "python",
   "pygments_lexer": "ipython3",
   "version": "3.5.2"
  }
 },
 "nbformat": 4,
 "nbformat_minor": 0
}
