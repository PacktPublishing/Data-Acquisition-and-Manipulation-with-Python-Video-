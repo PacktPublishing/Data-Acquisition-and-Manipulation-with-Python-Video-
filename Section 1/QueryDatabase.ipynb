{
 "cells": [
  {
   "cell_type": "markdown",
   "metadata": {},
   "source": [
    "## Query a Database\n",
    "### Saving and Loading Data\n",
    "*Curtis Miller*\n",
    "\n",
    "Here we extract data from a MySQL database and store it in Python as a pandas `DataFrame`.\n",
    "\n",
    "First, boilerplate."
   ]
  },
  {
   "cell_type": "code",
   "execution_count": null,
   "metadata": {
    "collapsed": false
   },
   "outputs": [],
   "source": [
    "import pymysql\n",
    "from sqlalchemy import create_engine\n",
    "import pandas as pd\n",
    "from pandas import DataFrame\n",
    "\n",
    "def pymysql_sqlalchemy_stringgen(user, passwd, host, dbname):\n",
    "    \"\"\"Generate a connection string for use with SQLAlchemy for MySQL and PyMySQL connections\n",
    "    \n",
    "    Args:\n",
    "        user (str): The username of the connecting user\n",
    "        passwd (str): The user's password\n",
    "        host (str): The host for where the database is located\n",
    "        dbname (str): The name of the database to connect with\n",
    "    \n",
    "    Returns:\n",
    "        (str) A SQLAlchemy connection string suitable for use with create_engine()\n",
    "    \n",
    "    Additional options for the connection are not supported with this function.\n",
    "    \"\"\"\n",
    "    \n",
    "    return \"mysql+pymysql://\" + user + \":\" + passwd + \"@\" + host + \"/\" + dbname\n",
    "\n",
    "conn = create_engine(pymysql_sqlalchemy_stringgen(\"root\", pswd, \"localhost\", \"poppyramids\")).connect()    # Connect to database"
   ]
  },
  {
   "cell_type": "markdown",
   "metadata": {},
   "source": [
    "We know in advance the data is in the table `populations` in the database. We can use the pandas function `read_sql()` to pass a query and get its results."
   ]
  },
  {
   "cell_type": "code",
   "execution_count": null,
   "metadata": {
    "collapsed": false
   },
   "outputs": [],
   "source": [
    "american_pop_2017 = pd.read_sql('SELECT * FROM populations WHERE country = \"UnitedStates\" AND year = 2017;',    # The SQL query\n",
    "                                con=conn,    # The connection object\n",
    "                                index_col=[\"country\", \"year\", \"age\"])\n",
    "american_pop_2017"
   ]
  },
  {
   "cell_type": "code",
   "execution_count": null,
   "metadata": {
    "collapsed": false
   },
   "outputs": [],
   "source": [
    "# Other queries\n",
    "pd.read_sql('SELECT * FROM populations;', con=conn, index_col=[\"country\", \"year\", \"age\"])    # Read whole table"
   ]
  },
  {
   "cell_type": "code",
   "execution_count": null,
   "metadata": {
    "collapsed": false
   },
   "outputs": [],
   "source": [
    "pd.read_sql('SELECT country, year, age, male_population, female_population FROM populations;',    # Narrow down columns\n",
    "            con=conn, index_col=[\"country\", \"year\", \"age\"])"
   ]
  },
  {
   "cell_type": "code",
   "execution_count": null,
   "metadata": {
    "collapsed": false
   },
   "outputs": [],
   "source": [
    "pd.read_sql('SELECT country, year, both_sexes_population FROM populations WHERE age = \"Total\";',     # Only population totals\n",
    "            con=conn, index_col=[\"country\", \"year\"])"
   ]
  },
  {
   "cell_type": "code",
   "execution_count": null,
   "metadata": {
    "collapsed": false
   },
   "outputs": [],
   "source": [
    "pd.read_sql('SELECT country, year, both_sexes_population FROM populations WHERE age = \"Total\" AND (year = 2013 OR year = 2014);',\n",
    "            con=conn, index_col=[\"country\", \"year\"])"
   ]
  },
  {
   "cell_type": "code",
   "execution_count": null,
   "metadata": {
    "collapsed": false
   },
   "outputs": [],
   "source": [
    "pd.read_sql('SELECT country FROM populations;', con=conn)    # Compare this call..."
   ]
  },
  {
   "cell_type": "code",
   "execution_count": null,
   "metadata": {
    "collapsed": false
   },
   "outputs": [],
   "source": [
    "pd.read_sql('SELECT DISTINCT country FROM populations;', con=conn)    # ...to this call."
   ]
  },
  {
   "cell_type": "code",
   "execution_count": null,
   "metadata": {
    "collapsed": true
   },
   "outputs": [],
   "source": [
    "conn.close()"
   ]
  }
 ],
 "metadata": {
  "kernelspec": {
   "display_name": "Python [Root]",
   "language": "python",
   "name": "Python [Root]"
  },
  "language_info": {
   "codemirror_mode": {
    "name": "ipython",
    "version": 3
   },
   "file_extension": ".py",
   "mimetype": "text/x-python",
   "name": "python",
   "nbconvert_exporter": "python",
   "pygments_lexer": "ipython3",
   "version": "3.5.2"
  }
 },
 "nbformat": 4,
 "nbformat_minor": 0
}
