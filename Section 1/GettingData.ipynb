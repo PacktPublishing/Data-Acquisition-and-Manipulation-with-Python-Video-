{
 "cells": [
  {
   "cell_type": "markdown",
   "metadata": {},
   "source": [
    "## Getting Data in its Different Formats\n",
    "### Getting and Saving Data\n",
    "*Curtis Miller*\n",
    "\n",
    "In this notebook I look at some of the myriad of ways we can load in data.\n",
    "\n",
    "#### CSV\n",
    "We can load in comma-separated value files (CSV files) using code akin to the code below (relying on the pandas function `read_csv()`)."
   ]
  },
  {
   "cell_type": "code",
   "execution_count": null,
   "metadata": {
    "collapsed": true
   },
   "outputs": [],
   "source": [
    "import pandas as pd\n",
    "import matplotlib.pyplot as plt\n",
    "%matplotlib inline"
   ]
  },
  {
   "cell_type": "code",
   "execution_count": null,
   "metadata": {
    "collapsed": false
   },
   "outputs": [],
   "source": [
    "pop = pd.read_csv(\"PopPyramids.csv\")\n",
    "\n",
    "# A peak at the contents\n",
    "pop.head()"
   ]
  },
  {
   "cell_type": "markdown",
   "metadata": {},
   "source": [
    "We can set some parameters to do an even better job at getting a good data frame (the one above is fine, but could be better). We want `Country`, `Year`, and `Age` to be indices, and we want to exclude `Region` (no useful information)."
   ]
  },
  {
   "cell_type": "code",
   "execution_count": null,
   "metadata": {
    "collapsed": false
   },
   "outputs": [],
   "source": [
    "pop = pd.read_csv(\"PopPyramids.csv\", index_col=['Country', 'Year', 'Age'])\n",
    "pop.drop('Region', axis=1, inplace=True)\n",
    "pop.sort_index(inplace=True)    # If we don't do this, some slicing operations won't work (index will not be sorted)\n",
    "pop.head()"
   ]
  },
  {
   "cell_type": "code",
   "execution_count": null,
   "metadata": {
    "collapsed": false
   },
   "outputs": [],
   "source": [
    "pop.loc[('UnitedStates', 2013), :]    # Usage demonstration"
   ]
  },
  {
   "cell_type": "code",
   "execution_count": null,
   "metadata": {
    "collapsed": false
   },
   "outputs": [],
   "source": [
    "pop.loc[(slice(None), 2017, 'Total'), :].sort_values('Both Sexes Population', ascending=False)"
   ]
  },
  {
   "cell_type": "markdown",
   "metadata": {},
   "source": [
    "#### Excel\n",
    "\n",
    "We can read Excel files (including `.xls` and `.xlsx`) using the `read_excel()` function from pandas."
   ]
  },
  {
   "cell_type": "code",
   "execution_count": null,
   "metadata": {
    "collapsed": false
   },
   "outputs": [],
   "source": [
    "pop_excel = pd.read_excel(\"PopPyramids.xlsx\", index_col=[1, 2, 3])\n",
    "pop_excel.drop('Region', axis=1, inplace=True)\n",
    "pop_excel.sort_index(inplace=True)\n",
    "pop_excel.head()"
   ]
  },
  {
   "cell_type": "markdown",
   "metadata": {},
   "source": [
    "#### HTML\n",
    "\n",
    "Reading HTML can be done using the `read_html()` function in pandas. Let's first read a relatively clean HTML file."
   ]
  },
  {
   "cell_type": "code",
   "execution_count": null,
   "metadata": {
    "collapsed": false
   },
   "outputs": [],
   "source": [
    "pop_html = pd.read_html(\"PopPyramids.html\")    # This returns a list\n",
    "pop_html"
   ]
  },
  {
   "cell_type": "code",
   "execution_count": null,
   "metadata": {
    "collapsed": false,
    "scrolled": true
   },
   "outputs": [],
   "source": [
    "pop_html[0].head()    # This is a data frame"
   ]
  },
  {
   "cell_type": "code",
   "execution_count": null,
   "metadata": {
    "collapsed": false
   },
   "outputs": [],
   "source": [
    "pop_html = pd.read_html(\"PopPyramids.html\", attrs={'id': 'PopData'}, index_col=[1, 2, 3])[0]    # More specific way to get the table wanted\n",
    "pop_html.drop('Region', axis=1, inplace=True)\n",
    "pop_html.sort_index(inplace=True)\n",
    "pop_html.head()"
   ]
  },
  {
   "cell_type": "markdown",
   "metadata": {},
   "source": [
    "How about parsing a real-world HTML file? *(Warning: HTML file may have changed; the Internet is unpredictable.)*"
   ]
  },
  {
   "cell_type": "code",
   "execution_count": null,
   "metadata": {
    "collapsed": false,
    "scrolled": true
   },
   "outputs": [],
   "source": [
    "cities = pd.read_html(\"https://en.wikipedia.org/wiki/List_of_United_States_cities_by_population\")    # You may need to install\n",
    "                                                                                                     # html5lib via conda\n",
    "cities"
   ]
  },
  {
   "cell_type": "code",
   "execution_count": null,
   "metadata": {
    "collapsed": false,
    "scrolled": true
   },
   "outputs": [],
   "source": [
    "cities[3]    # Ugly"
   ]
  },
  {
   "cell_type": "markdown",
   "metadata": {},
   "source": [
    "#### XML\n",
    "\n",
    "In general, you cannot simply convert from XML to a `DataFrame`, or any native Python object for that matter. XML needs to be parsed (HTML is very similar). But suppose that XML data is in a nice format. We can use a parser like lxml for creating our `DataFrame`. The solution, though, depends on the XML in the file. There is no universal solution.\n",
    "\n",
    "The following demonstrates what parsing the file `PopPyramids.xml` looks like:"
   ]
  },
  {
   "cell_type": "code",
   "execution_count": null,
   "metadata": {
    "collapsed": true
   },
   "outputs": [],
   "source": [
    "from lxml import objectify"
   ]
  },
  {
   "cell_type": "code",
   "execution_count": null,
   "metadata": {
    "collapsed": false
   },
   "outputs": [],
   "source": [
    "with open('PopPyramids.xml') as f:\n",
    "    root = objectify.parse(f).getroot()    # Get the root of the tree structure of the XML\n",
    "\n",
    "obj = list()    # Will contain all rows of the DataFrame\n",
    "\n",
    "for entry in root.entry:    # Iterate over all children in root with tag \"entry\"\n",
    "    entry_fields = dict()   # Create a dict that will contain a row\n",
    "    for var in entry.var:   # Iterate over all children of entry with tag \"var\"\n",
    "        entry_fields[var.attrib['name']] = var.pyval    # The element of entry_fields corresponding to the name attribute of var\n",
    "                                                        # is assigned the pythonized value of the contents of var\n",
    "    obj.append(entry_fields)  # Add this row to obj\n",
    "\n",
    "obj"
   ]
  },
  {
   "cell_type": "code",
   "execution_count": null,
   "metadata": {
    "collapsed": false
   },
   "outputs": [],
   "source": [
    "pop_xml = pd.DataFrame(obj)\n",
    "pop_xml"
   ]
  },
  {
   "cell_type": "code",
   "execution_count": null,
   "metadata": {
    "collapsed": false
   },
   "outputs": [],
   "source": [
    "# Make the DataFrame nicer\n",
    "cols = [col for col in pop_xml.columns if col not in ['Age', 'Year', 'Country', 'Region']]    # Columns to be included\n",
    "idx_list = pop_xml[['Country', 'Year', 'Age']].values.T.tolist()    # A list of lists to be used to create a MultiIndex\n",
    "# Notice that for a DataFrame df, df.values is a NumPy array (look on your own)\n",
    "pop_xml = pd.DataFrame(pop_xml[cols].values, columns=cols, index=idx_list)"
   ]
  },
  {
   "cell_type": "code",
   "execution_count": null,
   "metadata": {
    "collapsed": false
   },
   "outputs": [],
   "source": [
    "pop_xml.head()"
   ]
  },
  {
   "cell_type": "markdown",
   "metadata": {},
   "source": [
    "#### JSON\n",
    "\n",
    "JSON is easier than XML to work with, and pandas provides a `read_json()` function for reading from a JSON file, but be sure to look at the file first to ensure that the JSON could even be coerced into a tabular format (not all Python `dict`s can become `DataFrame`s, and the same holds for `JSON` objects since they're almost the same thing).\n",
    "\n",
    "Here's what reading from JSON looks like:"
   ]
  },
  {
   "cell_type": "code",
   "execution_count": null,
   "metadata": {
    "collapsed": false
   },
   "outputs": [],
   "source": [
    "pop_json = pd.read_json('PopPyramids.json')\n",
    "pop_json.head()"
   ]
  },
  {
   "cell_type": "markdown",
   "metadata": {},
   "source": [
    "#### Raw API Call\n",
    "\n",
    "API calls will likely consist of mostly `GET` requests, sometimes `PUSH` requests (and very rarely anything else). That's all that's common across APIs; otherwise, application is API-specific. Python then handles what the API returns (commonly JSON, sometimes XML).\n",
    "\n",
    "Here we get the data contained in the files used above directly via the U.S. Census Bureau's API. Refer to these links for usage of the API:\n",
    "\n",
    "* [Census Bureau API Overview](https://www.census.gov/developers/)\n",
    "* [API Guide](https://www.census.gov/content/dam/Census/data/developers/api-user-guide/api-guide.pdf)\n",
    "* [Available APIs](https://www.census.gov/data/developers/data-sets.html)\n",
    "* [International Database](https://www.census.gov/data/developers/data-sets/international-database.html)\n",
    "* [Populations by 5-Year Age Groups](https://api.census.gov/data/timeseries/idb/5year.html)\n",
    "* [Request a Key](http://api.census.gov/data/key_signup.html)\n",
    "\n",
    "Like most APIs, you will need a unique key for using the API. Here, it's `secret_key` (which I created off-video)."
   ]
  },
  {
   "cell_type": "code",
   "execution_count": null,
   "metadata": {
    "collapsed": true
   },
   "outputs": [],
   "source": [
    "from requests import get    # For making GET requests"
   ]
  },
  {
   "cell_type": "code",
   "execution_count": null,
   "metadata": {
    "collapsed": false
   },
   "outputs": [],
   "source": [
    "base_url = \"https://api.census.gov/data/timeseries/idb/5year\"    # The base URL of the API for making requests\n",
    "parameters = {\"key\": secret_key,    # The secret key\n",
    "              \"get\": \",\".join([\"FPOP\", \"FPOP0_4\", \"FPOP5_9\", \"FPOP10_14\", \"FPOP15_19\", \"FPOP20_24\", \"FPOP25_29\", \"FPOP30_34\",\n",
    "                            \"FPOP35_39\", \"FPOP40_44\", \"FPOP45_49\", \"FPOP50_54\", \"FPOP55_59\", \"FPOP60_64\",\n",
    "                            \"FPOP65_69\", \"FPOP70_74\", \"FPOP75_79\", \"FPOP80_84\", \"FPOP85_89\", \"FPOP90_94\",\n",
    "                            \"FPOP95_99\", \"FPOP100_\", \"MPOP\", \"MPOP0_4\", \"MPOP5_9\", \"MPOP10_14\", \"MPOP15_19\", \"MPOP20_24\",\n",
    "                            \"MPOP25_29\", \"MPOP30_34\", \"MPOP35_39\", \"MPOP40_44\", \"MPOP45_49\", \"MPOP50_54\", \"MPOP55_59\",\n",
    "                            \"MPOP60_64\", \"MPOP65_69\", \"MPOP70_74\", \"MPOP75_79\", \"MPOP80_84\", \"MPOP85_89\", \"MPOP90_94\",\n",
    "                            \"MPOP95_99\", \"MPOP100_\"]),    # Variables we request from the API\n",
    "              \"time\": \"from 2013 to 2017\",\n",
    "              \"FIPS\": \"*\"}    # Get data for all FIPS codes (identifiers for countries; for example, NO is Norway)"
   ]
  },
  {
   "cell_type": "code",
   "execution_count": null,
   "metadata": {
    "collapsed": false
   },
   "outputs": [],
   "source": [
    "response = get(base_url, params=parameters)"
   ]
  },
  {
   "cell_type": "code",
   "execution_count": null,
   "metadata": {
    "collapsed": false
   },
   "outputs": [],
   "source": [
    "response.status_code    # If 200, the call was a \"success\""
   ]
  },
  {
   "cell_type": "code",
   "execution_count": null,
   "metadata": {
    "collapsed": false
   },
   "outputs": [],
   "source": [
    "response.url    # What the resulting URL passed in the call looks like"
   ]
  },
  {
   "cell_type": "code",
   "execution_count": null,
   "metadata": {
    "collapsed": false
   },
   "outputs": [],
   "source": [
    "response.content     # This is JSON"
   ]
  },
  {
   "cell_type": "code",
   "execution_count": null,
   "metadata": {
    "collapsed": false
   },
   "outputs": [],
   "source": [
    "resp_obj = response.json()    # Create a Python object from the JSON sent back\n",
    "resp_obj"
   ]
  },
  {
   "cell_type": "code",
   "execution_count": null,
   "metadata": {
    "collapsed": false
   },
   "outputs": [],
   "source": [
    "pops_api_raw = pd.DataFrame(resp_obj[1:], columns=resp_obj[0])    # Create a DataFrame\n",
    "pops_api_raw"
   ]
  },
  {
   "cell_type": "markdown",
   "metadata": {},
   "source": [
    "The format is unlike what we had before, and the numbers are being treated as strings. We will need to do some serious transformation to put this in the format we want.\n",
    "\n",
    "But there's a better way.\n",
    "\n",
    "\n",
    "#### APIs Via Packages\n",
    "\n",
    "Always check to see if there's a Python package written already for the API you want to use. Twitter, for example, has a dedicated package. Unfortunately, the API for accessing international does not have a package (though the census Python package allows accessing other data sets).\n",
    "\n",
    "#### Population Pyramid Plot\n",
    "\n",
    "Below is the code for generating a population pyramid for the United States in 2017 using matplotlib."
   ]
  },
  {
   "cell_type": "code",
   "execution_count": null,
   "metadata": {
    "collapsed": false
   },
   "outputs": [],
   "source": [
    "import matplotlib.pyplot as plt\n",
    "%matplotlib inline"
   ]
  },
  {
   "cell_type": "code",
   "execution_count": null,
   "metadata": {
    "collapsed": false
   },
   "outputs": [],
   "source": [
    "pop.head()"
   ]
  },
  {
   "cell_type": "code",
   "execution_count": null,
   "metadata": {
    "collapsed": false
   },
   "outputs": [],
   "source": [
    "plotdf = pop.loc[('UnitedStates', 2017), ['Male Population', 'Female Population']]\n",
    "plotdf"
   ]
  },
  {
   "cell_type": "code",
   "execution_count": null,
   "metadata": {
    "collapsed": false
   },
   "outputs": [],
   "source": [
    "agegroups = pd.Categorical(['0-4', '5-9', '10-14', '15-19', '20-24', '25-29', '30-34', '35-39', '40-44', '45-49',\n",
    "                            '50-54', '55-59', '60-64', '65-69', '70-74', '75-79', '80-84', '85-89', '90-94',\n",
    "                            '95-99', '100+'])    # A relatively new type of data, for categorical-type data\n",
    "plotdf = plotdf.loc[agegroups, :]    # I want a custom order to the rows\n",
    "plotdf"
   ]
  },
  {
   "cell_type": "code",
   "execution_count": null,
   "metadata": {
    "collapsed": true
   },
   "outputs": [],
   "source": [
    "def plot_pop_pyramid(df, country=None, year=None):\n",
    "    \"\"\"Generate a plot of a population pyramid.\n",
    "    \n",
    "    Args:\n",
    "        df (pandas.DataFrame): A DataFrame with index Age (for age groups) and columns Male Population, Female Population\n",
    "                               of numeric data that will be used for creating the plot\n",
    "        country (str): The country for which the population pyramid represents (used in the title); if None, ignored\n",
    "        year (int): The year of the population pyramid's data (used in the title); if None, ignored\n",
    "    \"\"\"\n",
    "    \n",
    "    agegroups = pd.Categorical(['0-4', '5-9', '10-14', '15-19', '20-24', '25-29', '30-34', '35-39', '40-44', '45-49',\n",
    "                                '50-54', '55-59', '60-64', '65-69', '70-74', '75-79', '80-84', '85-89', '90-94',\n",
    "                                '95-99', '100+'])    # A relatively new type of data, for categorical-type data\n",
    "    ypos = [i for i in range(len(agegroups))]\n",
    "    plt.yticks(ypos, list(agegroups))\n",
    "    plt.barh(ypos, -df[\"Male Population\"], align='center', color='blue')\n",
    "    plt.barh(ypos, df[\"Female Population\"], align='center', color='red')\n",
    "    \n",
    "    max_extent = df.values.max() * 1.1\n",
    "    plt.xlim([-max_extent, max_extent])\n",
    "    t = \"Population Pyramid\"\n",
    "    if country != None:\n",
    "        t += \" for \" + country\n",
    "    if year != None:\n",
    "        t += \", \" + str(year)\n",
    "    _ = plt.title(t)\n",
    "    plt.ylim([-0.5, len(ypos) + 1])\n",
    "    \n",
    "    plt.show()"
   ]
  },
  {
   "cell_type": "code",
   "execution_count": null,
   "metadata": {
    "collapsed": false
   },
   "outputs": [],
   "source": [
    "plot_pop_pyramid(plotdf, \"The United States of America\", 2017)"
   ]
  },
  {
   "cell_type": "code",
   "execution_count": null,
   "metadata": {
    "collapsed": true
   },
   "outputs": [],
   "source": []
  }
 ],
 "metadata": {
  "anaconda-cloud": {},
  "kernelspec": {
   "display_name": "Python [Root]",
   "language": "python",
   "name": "Python [Root]"
  },
  "language_info": {
   "codemirror_mode": {
    "name": "ipython",
    "version": 3
   },
   "file_extension": ".py",
   "mimetype": "text/x-python",
   "name": "python",
   "nbconvert_exporter": "python",
   "pygments_lexer": "ipython3",
   "version": "3.5.2"
  }
 },
 "nbformat": 4,
 "nbformat_minor": 0
}
