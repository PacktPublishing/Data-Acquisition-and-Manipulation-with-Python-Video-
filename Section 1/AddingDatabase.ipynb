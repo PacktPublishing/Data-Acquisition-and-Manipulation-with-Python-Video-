{
 "cells": [
  {
   "cell_type": "markdown",
   "metadata": {},
   "source": [
    "## Adding Information to a Database\n",
    "### Getting and Saving Data\n",
    "*Curtis Miller*\n",
    "\n",
    "In this notebook I create and add data to a database table.\n",
    "\n",
    "First, load in required libraries."
   ]
  },
  {
   "cell_type": "code",
   "execution_count": null,
   "metadata": {
    "collapsed": true
   },
   "outputs": [],
   "source": [
    "import pymysql\n",
    "from sqlalchemy import create_engine\n",
    "import pandas as pd\n",
    "from pandas import DataFrame"
   ]
  },
  {
   "cell_type": "code",
   "execution_count": null,
   "metadata": {
    "collapsed": true
   },
   "outputs": [],
   "source": [
    "def pymysql_sqlalchemy_stringgen(user, passwd, host, dbname):\n",
    "    \"\"\"Generate a connection string for use with SQLAlchemy for MySQL and PyMySQL connections\n",
    "    \n",
    "    Args:\n",
    "        user (str): The username of the connecting user\n",
    "        passwd (str): The user's password\n",
    "        host (str): The host for where the database is located\n",
    "        dbname (str): The name of the database to connect with\n",
    "    \n",
    "    Returns:\n",
    "        (str) A SQLAlchemy connection string suitable for use with create_engine()\n",
    "    \n",
    "    Additional options for the connection are not supported with this function.\n",
    "    \"\"\"\n",
    "    \n",
    "    return \"mysql+pymysql://\" + user + \":\" + passwd + \"@\" + host + \"/\" + dbname"
   ]
  },
  {
   "cell_type": "code",
   "execution_count": null,
   "metadata": {
    "collapsed": true
   },
   "outputs": [],
   "source": [
    "conn = create_engine(pymysql_sqlalchemy_stringgen(\"root\", pswd, \"localhost\", \"poppyramids\")).connect()    # Connect to database"
   ]
  },
  {
   "cell_type": "markdown",
   "metadata": {},
   "source": [
    "Read in a pandas `DataFrame` with the information we want to add to the database."
   ]
  },
  {
   "cell_type": "code",
   "execution_count": null,
   "metadata": {
    "collapsed": false,
    "scrolled": true
   },
   "outputs": [],
   "source": [
    "pops = pd.read_csv(\"PopPyramids.csv\", index_col=[\"Country\", \"Year\", \"Age\"])\n",
    "pops.head()"
   ]
  },
  {
   "cell_type": "markdown",
   "metadata": {},
   "source": [
    "These column names could be trouble in a database, so let's make names lower case and use `_` instead of spaces."
   ]
  },
  {
   "cell_type": "code",
   "execution_count": null,
   "metadata": {
    "collapsed": false,
    "scrolled": true
   },
   "outputs": [],
   "source": [
    "pops.columns = pd.Index(pd.Series(pops.columns).map(lambda x: x.lower().replace(\" \", \"_\")))    # Format column names\n",
    "pops.index.rename([n.lower() for n in pops.index.names], inplace=True)    # Rename the names of the MultiIndex levels"
   ]
  },
  {
   "cell_type": "code",
   "execution_count": null,
   "metadata": {
    "collapsed": false,
    "scrolled": true
   },
   "outputs": [],
   "source": [
    "pops.head()"
   ]
  },
  {
   "cell_type": "markdown",
   "metadata": {},
   "source": [
    "Create a table in the database using SQL to hold this data; it starts with no rows."
   ]
  },
  {
   "cell_type": "code",
   "execution_count": null,
   "metadata": {
    "collapsed": false
   },
   "outputs": [],
   "source": [
    "make_table = \"\"\"CREATE TABLE `populations` (\n",
    "                    `region` varchar(20),\n",
    "                    `year` int(4),\n",
    "                    `both_sexes_population` bigint(20),\n",
    "                    `male_population` bigint(20),\n",
    "                    `female_population` bigint(20),\n",
    "                    `percent_both_sexes` double,\n",
    "                    `percent_male` double,\n",
    "                    `percent_female` double,\n",
    "                    `sex_ratio` double,\n",
    "                    `age` char(5) NOT NULL,\n",
    "                    `country` char(28) NOT NULL,\n",
    "                    PRIMARY KEY (`country`,`year`,`age`)\n",
    "                );\"\"\"\n",
    "\n",
    "conn.execute(make_table)"
   ]
  },
  {
   "cell_type": "markdown",
   "metadata": {},
   "source": [
    "Add the rows to the table, appending them. Keys will be properly matched."
   ]
  },
  {
   "cell_type": "code",
   "execution_count": null,
   "metadata": {
    "collapsed": false
   },
   "outputs": [],
   "source": [
    "pops.to_sql(\"populations\",         # The name of the table in the database\n",
    "            con=conn,              # The connection object\n",
    "            if_exists='append')    # If the table exists, add rows (other options: 'fail' to do nothing, 'replace' to \n",
    "                                   # delete and make new table)"
   ]
  },
  {
   "cell_type": "markdown",
   "metadata": {},
   "source": [
    "Under the hood, `to_sql()` is issuing `INSERT` commands to MySQL."
   ]
  },
  {
   "cell_type": "code",
   "execution_count": null,
   "metadata": {
    "collapsed": false,
    "scrolled": true
   },
   "outputs": [],
   "source": [
    "conn.close()    # Always close the connection"
   ]
  }
 ],
 "metadata": {
  "kernelspec": {
   "display_name": "Python 3",
   "language": "python",
   "name": "python3"
  },
  "language_info": {
   "codemirror_mode": {
    "name": "ipython",
    "version": 3
   },
   "file_extension": ".py",
   "mimetype": "text/x-python",
   "name": "python",
   "nbconvert_exporter": "python",
   "pygments_lexer": "ipython3",
   "version": "3.6.0"
  }
 },
 "nbformat": 4,
 "nbformat_minor": 0
}
