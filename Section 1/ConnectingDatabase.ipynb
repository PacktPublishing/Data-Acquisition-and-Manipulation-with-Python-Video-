{
 "cells": [
  {
   "cell_type": "markdown",
   "metadata": {},
   "source": [
    "## Connecting to a Database\n",
    "### Getting and Saving Data\n",
    "*Curtis Miller*\n",
    "\n",
    "Here I connect to a MySQL database called `PopPyramids` for managing the population pyramid data. I use the pymysql package to manage the connection."
   ]
  },
  {
   "cell_type": "code",
   "execution_count": null,
   "metadata": {
    "collapsed": true
   },
   "outputs": [],
   "source": [
    "import pymysql as sql"
   ]
  },
  {
   "cell_type": "markdown",
   "metadata": {},
   "source": [
    "First we establish a connection with MySQL."
   ]
  },
  {
   "cell_type": "code",
   "execution_count": null,
   "metadata": {
    "collapsed": false
   },
   "outputs": [],
   "source": [
    "# Creates a connection\n",
    "conn = sql.connect(host='localhost',    # The host where the database is located\n",
    "                   user='root',         # The user connecting to the database\n",
    "                   passwd=pswd,         # The user's password (get your own or this may not work)\n",
    "                   db='mysql')\n",
    "\n",
    "cur = conn.cursor()    # We send commands via the cursor"
   ]
  },
  {
   "cell_type": "markdown",
   "metadata": {},
   "source": [
    "After establishing a connection, issue a command. Here, we send SQL to use a database."
   ]
  },
  {
   "cell_type": "code",
   "execution_count": null,
   "metadata": {
    "collapsed": false
   },
   "outputs": [],
   "source": [
    "_ = cur.execute(\"USE poppyramids;\")    # Returns the number of rows affected using a cursor command\n",
    "print(_)"
   ]
  },
  {
   "cell_type": "markdown",
   "metadata": {},
   "source": [
    "Now we close the connection. **Always close the connection!** (Bad things happen if you don't.)"
   ]
  },
  {
   "cell_type": "code",
   "execution_count": null,
   "metadata": {
    "collapsed": true
   },
   "outputs": [],
   "source": [
    "cur.close()     # Close the cursor\n",
    "conn.close()    # Close the connection"
   ]
  },
  {
   "cell_type": "markdown",
   "metadata": {},
   "source": [
    "We can also connect using the package SQLAlchemy, which is indended to be a high-level interface to SQL databases, abstracting away SQL commands (here is a good tutorial for getting started: [A step-by-step SQLAlchemy tutorial](http://www.rmunn.com/sqlalchemy-tutorial/tutorial.html)). pandas depends on using SQLAlchemy objects for its SQL interfaces.\n",
    "\n",
    "I want to rely on pure SQL for now, so I'm only interested is creating a connection via an `SQLEngine` object."
   ]
  },
  {
   "cell_type": "code",
   "execution_count": null,
   "metadata": {
    "collapsed": true
   },
   "outputs": [],
   "source": [
    "from sqlalchemy import create_engine"
   ]
  },
  {
   "cell_type": "markdown",
   "metadata": {},
   "source": [
    "`create_engine()` creates connections for connecting to a database using a string input. Here is a function for generating such a string that connects to MySQL via pymysql."
   ]
  },
  {
   "cell_type": "code",
   "execution_count": null,
   "metadata": {
    "collapsed": true
   },
   "outputs": [],
   "source": [
    "def pymysql_sqlalchemy_stringgen(user, passwd, host, dbname):\n",
    "    \"\"\"Generate a connection string for use with SQLAlchemy for MySQL and PyMySQL connections\n",
    "    \n",
    "    Args:\n",
    "        user (str): The username of the connecting user\n",
    "        passwd (str): The user's password\n",
    "        host (str): The host for where the database is located\n",
    "        dbname (str): The name of the database to connect with\n",
    "    \n",
    "    Returns:\n",
    "        (str) A SQLAlchemy connection string suitable for use with create_engine()\n",
    "    \n",
    "    Additional options for the connection are not supported with this function.\n",
    "    \"\"\"\n",
    "    \n",
    "    return \"mysql+pymysql://\" + user + \":\" + passwd + \"@\" + host + \"/\" + dbname"
   ]
  },
  {
   "cell_type": "code",
   "execution_count": null,
   "metadata": {
    "collapsed": false
   },
   "outputs": [],
   "source": [
    "pymysql_sqlalchemy_stringgen(\"<username>\", \"<password>\", \"<host>\", \"<dbname>\")    # Overall format (not including options)"
   ]
  },
  {
   "cell_type": "code",
   "execution_count": null,
   "metadata": {
    "collapsed": false
   },
   "outputs": [],
   "source": [
    "pymysql_sqlalchemy_stringgen(\"curtis\", \"guest\", \"localhost\", \"mydb\")     # Demonstration"
   ]
  },
  {
   "cell_type": "markdown",
   "metadata": {},
   "source": [
    "Now create a connection via `create_engine()`."
   ]
  },
  {
   "cell_type": "code",
   "execution_count": null,
   "metadata": {
    "collapsed": false
   },
   "outputs": [],
   "source": [
    "conn_string = pymysql_sqlalchemy_stringgen(\"root\", pswd, \"localhost\", \"poppyramids\")\n",
    "conn = create_engine(conn_string).connect()    # This does not work exactly like the connection we created above\n",
    "                                               # (for example; we don't create cursors)"
   ]
  },
  {
   "cell_type": "markdown",
   "metadata": {},
   "source": [
    "We'll use `conn` later; for now, let's close the connection."
   ]
  },
  {
   "cell_type": "code",
   "execution_count": null,
   "metadata": {
    "collapsed": true
   },
   "outputs": [],
   "source": [
    "conn.close()"
   ]
  }
 ],
 "metadata": {
  "anaconda-cloud": {},
  "kernelspec": {
   "display_name": "Python [Root]",
   "language": "python",
   "name": "Python [Root]"
  },
  "language_info": {
   "codemirror_mode": {
    "name": "ipython",
    "version": 3
   },
   "file_extension": ".py",
   "mimetype": "text/x-python",
   "name": "python",
   "nbconvert_exporter": "python",
   "pygments_lexer": "ipython3",
   "version": "3.5.2"
  }
 },
 "nbformat": 4,
 "nbformat_minor": 0
}
