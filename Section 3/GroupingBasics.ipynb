{
 "cells": [
  {
   "cell_type": "markdown",
   "metadata": {},
   "source": [
    "# Grouping Basics\n",
    "*Curtis Miller*\n",
    "\n",
    "In this notebook we look at how we can form groups for grouping operations, along with some basic operations.\n",
    "\n",
    "Let's load in the population pyramid dataset and get started."
   ]
  },
  {
   "cell_type": "code",
   "execution_count": null,
   "metadata": {
    "collapsed": true
   },
   "outputs": [],
   "source": [
    "import pandas as pd\n",
    "from pandas import Series, DataFrame\n",
    "%matplotlib inline"
   ]
  },
  {
   "cell_type": "code",
   "execution_count": null,
   "metadata": {
    "collapsed": false
   },
   "outputs": [],
   "source": [
    "pop_pyramids = pd.read_csv(\"PopPyramids.csv\", index_col=[\"Country\", \"Year\", \"Age\"])\n",
    "# I want a version including only male/female populations and no \"Total\" rows\n",
    "pop_pyramids = pop_pyramids.loc[:, [\"Male Population\", \"Female Population\"]].drop(\"Total\", axis=0, level=\"Age\")\n",
    "pop_pyramids.columns = pd.Index([\"Male\", \"Female\"])\n",
    "pop_pyramids.sort_index(inplace=True)    # Can't do slicing without this\n",
    "pop_pyramids.head()"
   ]
  },
  {
   "cell_type": "code",
   "execution_count": null,
   "metadata": {
    "collapsed": false
   },
   "outputs": [],
   "source": [
    "# A version only including 2016 data\n",
    "pop_pyramids_16 = pop_pyramids.loc[(slice(None), 2016), :]\n",
    "pop_pyramids_16.index = pop_pyramids_16.index.droplevel(\"Year\")    # Redundant level\n",
    "pop_pyramids_16.head()"
   ]
  },
  {
   "cell_type": "code",
   "execution_count": null,
   "metadata": {
    "collapsed": false
   },
   "outputs": [],
   "source": [
    "# Store data in columns, not the index\n",
    "pp16_nomulti = pop_pyramids_16.reset_index()\n",
    "pp16_nomulti.head()"
   ]
  },
  {
   "cell_type": "code",
   "execution_count": null,
   "metadata": {
    "collapsed": false
   },
   "outputs": [],
   "source": [
    "# Go to long-form format\n",
    "pp16_longform = pd.melt(pp16_nomulti,                  # DataFrame we're melting\n",
    "                        id_vars=[\"Country\", \"Age\"],    # The ID variables; the rest will be melted\n",
    "                        var_name=\"Sex\",                # The name of the column \"variable\" is now \"Sex\"\n",
    "                        value_name=\"Population\")       # The name of the column \"value\" is now \"Population\"\n",
    "pp16_longform.head()"
   ]
  },
  {
   "cell_type": "markdown",
   "metadata": {},
   "source": [
    "Here I create different groups, and I give a brief demonstration of how groups can be used."
   ]
  },
  {
   "cell_type": "code",
   "execution_count": null,
   "metadata": {
    "collapsed": false
   },
   "outputs": [],
   "source": [
    "# We can create a group for:\n",
    "agegroup = pp16_longform.groupby(\"Age\")    # Age groups\n",
    "agegroup"
   ]
  },
  {
   "cell_type": "code",
   "execution_count": null,
   "metadata": {
    "collapsed": true
   },
   "outputs": [],
   "source": [
    "countrygroup = pp16_longform.groupby(\"Country\")    # Countries\n",
    "sexgroup = pp16_longform.groupby(\"Sex\")    # Sex\n",
    "agesexgroup = pp16_longform.groupby([\"Age\", \"Sex\"])    # Age AND Sex"
   ]
  },
  {
   "cell_type": "code",
   "execution_count": null,
   "metadata": {
    "collapsed": false
   },
   "outputs": [],
   "source": [
    "# See groups\n",
    "sexgroup.groups"
   ]
  },
  {
   "cell_type": "code",
   "execution_count": null,
   "metadata": {
    "collapsed": false,
    "scrolled": false
   },
   "outputs": [],
   "source": [
    "# Total counts, just to see what grouping does\n",
    "countrygroup.sum().sort_values(\"Population\", ascending=False)"
   ]
  },
  {
   "cell_type": "code",
   "execution_count": null,
   "metadata": {
    "collapsed": false
   },
   "outputs": [],
   "source": [
    "sexgroup.sum()"
   ]
  },
  {
   "cell_type": "code",
   "execution_count": null,
   "metadata": {
    "collapsed": true
   },
   "outputs": [],
   "source": [
    "# This is just to order age groups in a reasonable order\n",
    "agegrpvec = pd.Categorical(['0-4', '5-9', '10-14', '15-19', '20-24', '25-29', '30-34', '35-39', '40-44', '45-49',\n",
    "                            '50-54', '55-59', '60-64', '65-69', '70-74', '75-79', '80-84', '85-89', '90-94',\n",
    "                            '95-99', '100+'])    # A relatively new type of data, for categorical-type data"
   ]
  },
  {
   "cell_type": "code",
   "execution_count": null,
   "metadata": {
    "collapsed": false
   },
   "outputs": [],
   "source": [
    "agegroup.sum().loc[agegrpvec]"
   ]
  },
  {
   "cell_type": "code",
   "execution_count": null,
   "metadata": {
    "collapsed": false
   },
   "outputs": [],
   "source": [
    "agegroup.sum().loc[agegrpvec, \"Population\"].plot(\"bar\")"
   ]
  },
  {
   "cell_type": "code",
   "execution_count": null,
   "metadata": {
    "collapsed": false
   },
   "outputs": [],
   "source": [
    "agesexgroup.sum()"
   ]
  },
  {
   "cell_type": "code",
   "execution_count": null,
   "metadata": {
    "collapsed": false
   },
   "outputs": [],
   "source": [
    "# We can also group using a hierarchical index\n",
    "yeargroup = pop_pyramids.groupby(level=\"Year\")\n",
    "yeargroup.sum()"
   ]
  },
  {
   "cell_type": "code",
   "execution_count": null,
   "metadata": {
    "collapsed": false
   },
   "outputs": [],
   "source": [
    "yeargroup.sum().sum(axis=1)    # Yearly populations"
   ]
  },
  {
   "cell_type": "code",
   "execution_count": null,
   "metadata": {
    "collapsed": false
   },
   "outputs": [],
   "source": [
    "yeargroup.sum().sum(axis=1).plot()"
   ]
  },
  {
   "cell_type": "code",
   "execution_count": null,
   "metadata": {
    "collapsed": false
   },
   "outputs": [],
   "source": [
    "yearcountrygroup = pop_pyramids.groupby(level=[\"Year\", \"Country\"])\n",
    "yearcountrygroup.sum()"
   ]
  },
  {
   "cell_type": "code",
   "execution_count": null,
   "metadata": {
    "collapsed": false
   },
   "outputs": [],
   "source": [
    "yearcountrygroup.sum().sum(axis=1)"
   ]
  },
  {
   "cell_type": "code",
   "execution_count": null,
   "metadata": {
    "collapsed": false
   },
   "outputs": [],
   "source": [
    "yearcountrygroup.sum().sum(axis=1).loc[:, \"UnitedStates\"]    # US annual populations"
   ]
  },
  {
   "cell_type": "markdown",
   "metadata": {},
   "source": [
    "After we have a grouping, we could also iterate through groups. We will have a `DataFrame` for the data in the group and also its name."
   ]
  },
  {
   "cell_type": "code",
   "execution_count": null,
   "metadata": {
    "collapsed": false
   },
   "outputs": [],
   "source": [
    "for name, data in sexgroup:\n",
    "    print(name)\n",
    "    print(data.head())"
   ]
  }
 ],
 "metadata": {
  "kernelspec": {
   "display_name": "Python 3",
   "language": "python",
   "name": "python3"
  },
  "language_info": {
   "codemirror_mode": {
    "name": "ipython",
    "version": 3
   },
   "file_extension": ".py",
   "mimetype": "text/x-python",
   "name": "python",
   "nbconvert_exporter": "python",
   "pygments_lexer": "ipython3",
   "version": "3.6.0"
  }
 },
 "nbformat": 4,
 "nbformat_minor": 2
}
