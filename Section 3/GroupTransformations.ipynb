{
 "cells": [
  {
   "cell_type": "markdown",
   "metadata": {},
   "source": [
    "# Group-Wise Operations and Transformations\n",
    "*Curtis Miller*\n",
    "\n",
    "This notebook will focus on performing certain operations and transformations at a group level. In particular, I demonstrate filling in missing information at a group level and performing group-level statistical transformations such as standardization. In this notebook, I use the iris dataset. The natural grouping for this dataset would be the species of the flowers. I load in this dataset along with needed libraries below."
   ]
  },
  {
   "cell_type": "code",
   "execution_count": null,
   "metadata": {
    "collapsed": true
   },
   "outputs": [],
   "source": [
    "import pandas as pd\n",
    "import numpy as np"
   ]
  },
  {
   "cell_type": "code",
   "execution_count": null,
   "metadata": {
    "collapsed": false
   },
   "outputs": [],
   "source": [
    "iris = pd.read_csv(\"iris.csv\")\n",
    "iris.head()"
   ]
  },
  {
   "cell_type": "code",
   "execution_count": null,
   "metadata": {
    "collapsed": false
   },
   "outputs": [],
   "source": [
    "iris.shape"
   ]
  },
  {
   "cell_type": "markdown",
   "metadata": {},
   "source": [
    "Group-wise typically follow a three-step process:\n",
    "\n",
    "1. **Split** the dataset into groups\n",
    "2. **Apply** an operation for each group (suggestively implies using the `apply()` method)\n",
    "3. **Combine** the grouped datasets together again\n",
    "\n",
    "Here are examples of this procedure in action.\n",
    "\n",
    "## Group-Wise Missing Data Replacement\n",
    "\n",
    "Let's randomly censor some of the `iris` data."
   ]
  },
  {
   "cell_type": "code",
   "execution_count": null,
   "metadata": {
    "collapsed": false
   },
   "outputs": [],
   "source": [
    "# Code in this block chooses random indices for censoring (True will be censored)\n",
    "idx = np.array([False] * (150 * 5))\n",
    "idx[np.random.choice(np.arange(150 * 5), size=150, replace=False)] = True\n",
    "idx = idx.reshape(150, 5)\n",
    "idx[:, 4] = False    # Last column is for species; never censor this\n",
    "idx[:10, :]"
   ]
  },
  {
   "cell_type": "code",
   "execution_count": null,
   "metadata": {
    "collapsed": false
   },
   "outputs": [],
   "source": [
    "# Convert to DataFrame for indexing\n",
    "idx = pd.DataFrame(idx, index=iris.index, columns=iris.columns)\n",
    "idx.head()"
   ]
  },
  {
   "cell_type": "code",
   "execution_count": null,
   "metadata": {
    "collapsed": false
   },
   "outputs": [],
   "source": [
    "# Now do the actual censoring\n",
    "iris_censor = iris.copy()\n",
    "iris_censor[idx] = np.nan\n",
    "iris_censor.head()"
   ]
  },
  {
   "cell_type": "markdown",
   "metadata": {},
   "source": [
    "How could we replace the missing data? One approach might be to replace with mean values, but this would be crude; not all species have the same mean values for their variables. We would like to be able to replace with the mean values for particular species.\n",
    "\n",
    "We can form groups though and fill with means at the group level. Let's see this in action."
   ]
  },
  {
   "cell_type": "code",
   "execution_count": null,
   "metadata": {
    "collapsed": false
   },
   "outputs": [],
   "source": [
    "# Split\n",
    "iriscengroups = iris_censor.groupby(\"species\")\n",
    "iriscengroups.groups"
   ]
  },
  {
   "cell_type": "code",
   "execution_count": null,
   "metadata": {
    "collapsed": false,
    "scrolled": false
   },
   "outputs": [],
   "source": [
    "# Apply/Combine\n",
    "replace_nan = lambda s: s.fillna(s.mean())\n",
    "iris_c_replaced = iriscengroups.apply(replace_nan)    # Recombination is done automatically\n",
    "iris_c_replaced.head()"
   ]
  },
  {
   "cell_type": "markdown",
   "metadata": {},
   "source": [
    "## Group-Wise Standardization\n",
    "\n",
    "Recall the standardization procedure:\n",
    "\n",
    "$$z_i = \\frac{x_i - \\bar x}{s_x}$$\n",
    "\n",
    "Sometimes we may want to standardize but require observations be standardized with respect to their individual groups, so if $k$ denotes group, we may actually want:\n",
    "\n",
    "$$z_{ik} = \\frac{x_{ik} - \\bar{x}_k}{s_k}$$\n",
    "\n",
    "I demonstrate this by standardizing each variable in the `iris` dataset while respecting groups. The standardized data is contained in its own column."
   ]
  },
  {
   "cell_type": "code",
   "execution_count": null,
   "metadata": {
    "collapsed": false
   },
   "outputs": [],
   "source": [
    "# Split\n",
    "irisgroups = iris.groupby(\"species\")\n",
    "irisgroups.groups"
   ]
  },
  {
   "cell_type": "code",
   "execution_count": null,
   "metadata": {
    "collapsed": false
   },
   "outputs": [],
   "source": [
    "# Apply/Combine\n",
    "standardize = lambda s: (s - s.mean()) / s.std()\n",
    "iris_standardized = irisgroups[[\"sepal_length\", \"sepal_width\", \"petal_length\", \"petal_width\"]].apply(standardize)\n",
    "iris_standardized.head()"
   ]
  },
  {
   "cell_type": "code",
   "execution_count": null,
   "metadata": {
    "collapsed": true
   },
   "outputs": [],
   "source": [
    "iris = iris.join(iris_standardized, rsuffix=\"_standardized\")"
   ]
  },
  {
   "cell_type": "code",
   "execution_count": null,
   "metadata": {
    "collapsed": false
   },
   "outputs": [],
   "source": [
    "iris.head()"
   ]
  }
 ],
 "metadata": {
  "kernelspec": {
   "display_name": "Python [Root]",
   "language": "python",
   "name": "Python [Root]"
  },
  "language_info": {
   "codemirror_mode": {
    "name": "ipython",
    "version": 3
   },
   "file_extension": ".py",
   "mimetype": "text/x-python",
   "name": "python",
   "nbconvert_exporter": "python",
   "pygments_lexer": "ipython3",
   "version": "3.5.2"
  }
 },
 "nbformat": 4,
 "nbformat_minor": 2
}
