{
 "cells": [
  {
   "cell_type": "markdown",
   "metadata": {},
   "source": [
    "# Pivot Tables and Cross-Tabulation\n",
    "*Curtis Miller*\n",
    "\n",
    "In this notebook I demonstrate the use of pivot tables and cross-tabulation."
   ]
  },
  {
   "cell_type": "code",
   "execution_count": null,
   "metadata": {
    "collapsed": true
   },
   "outputs": [],
   "source": [
    "import pandas as pd\n",
    "import numpy as np"
   ]
  },
  {
   "cell_type": "markdown",
   "metadata": {},
   "source": [
    "## Datasets\n",
    "\n",
    "I consider two datasets in this notebook. The first dataset is a subset of the [American National Election Studies (ANES)](http://www.electionstudies.org/) survey dataset, including potential voters' education level, age group, voter registration status, and who they (self-reported) voted for in the 2016 Presidential election. Given the small size of this subset of the dataset (the actual dataset is much larger and available for free, though loading it into Python may be tricky), I do some post-processing, using broader groups."
   ]
  },
  {
   "cell_type": "code",
   "execution_count": null,
   "metadata": {
    "collapsed": false
   },
   "outputs": [],
   "source": [
    "voters = pd.read_csv(\"VoterData.csv\")\n",
    "\n",
    "# Some data processing, merging groups together\n",
    "voters.Education.replace({\"Less than high school\": \"No Bachelors\",\n",
    "                          \"High school\": \"No Bachelors\",\n",
    "                          \"Associate\": \"No Bachelors\",\n",
    "                          \"Bachelors\": \"Bachelors or more\",\n",
    "                          \"Graduate\": \"Bachelors or more\"}, inplace=True)\n",
    "voters.AgeGroup.replace({\"[18, 30)\": \"[18, 50)\",\n",
    "                         \"[30, 40)\": \"[18, 50)\",\n",
    "                         \"[40, 50)\": \"[18, 50)\",\n",
    "                         \"[50, 60)\": \"[50, 90)\",\n",
    "                         \"[60, 70)\": \"[50, 90)\",\n",
    "                         \"[70, 80)\": \"[50, 90)\",\n",
    "                         \"[80, 90)\": \"[50, 90)\"}, inplace=True)\n",
    "\n",
    "# Data should be categorical for our purposes (plus, this is correct format)\n",
    "voters.AgeGroup = pd.Categorical(voters.AgeGroup)\n",
    "voters.Education = pd.Categorical(voters.Education)\n",
    "voters.VotedFor = pd.Categorical(voters.VotedFor)\n",
    "\n",
    "voters.head()"
   ]
  },
  {
   "cell_type": "code",
   "execution_count": null,
   "metadata": {
    "collapsed": false
   },
   "outputs": [],
   "source": [
    "voters.dtypes"
   ]
  },
  {
   "cell_type": "markdown",
   "metadata": {},
   "source": [
    "The next dataset is the familiar population pyramid dataset, but restricted to just the United States."
   ]
  },
  {
   "cell_type": "code",
   "execution_count": null,
   "metadata": {
    "collapsed": false
   },
   "outputs": [],
   "source": [
    "pop_pyramids = pd.read_csv(\"PopPyramids.csv\")\n",
    "# Restrict to just USA, and don't include \"Total\" rows; plus, include only male and female population counts\n",
    "ppUSA = pop_pyramids.loc[(pop_pyramids.Country == \"UnitedStates\") & (pop_pyramids.Age != \"Total\"),\n",
    "                         [\"Age\", \"Year\", \"Male Population\", \"Female Population\"]]\n",
    "ppUSA.columns = pd.Index([\"Age\", \"Year\", \"Male\", \"Female\"])\n",
    "ppUSA.head()"
   ]
  },
  {
   "cell_type": "code",
   "execution_count": null,
   "metadata": {
    "collapsed": false
   },
   "outputs": [],
   "source": [
    "# Turn to long-form format; must be done for good pivot tables\n",
    "ppUSA = pd.melt(ppUSA, id_vars=[\"Age\", \"Year\"], var_name=\"Sex\", value_name=\"Population\")\n",
    "ppUSA.head()"
   ]
  },
  {
   "cell_type": "markdown",
   "metadata": {},
   "source": [
    "## Cross-Tabulation\n",
    "\n",
    "In cross-tabulation, we pass `Series` to the pandas function `crosstab()`. These can be lists of multiple `Series`. The result is a table that counts the frequency of occurance of combinations of possible values in the `Series`."
   ]
  },
  {
   "cell_type": "code",
   "execution_count": null,
   "metadata": {
    "collapsed": false
   },
   "outputs": [],
   "source": [
    "pd.crosstab(voters.Education, voters.VotedFor)    # See how many people with different educations voted for whom"
   ]
  },
  {
   "cell_type": "code",
   "execution_count": null,
   "metadata": {
    "collapsed": false
   },
   "outputs": [],
   "source": [
    "pd.crosstab(voters.AgeGroup, voters.VotedFor, margins=True)    # Do the same for age groups; also, include margin totals"
   ]
  },
  {
   "cell_type": "code",
   "execution_count": null,
   "metadata": {
    "collapsed": false
   },
   "outputs": [],
   "source": [
    "pd.crosstab(voters.AgeGroup, voters.Education)    # What is the joint frequency of age and education level?"
   ]
  },
  {
   "cell_type": "code",
   "execution_count": null,
   "metadata": {
    "collapsed": false
   },
   "outputs": [],
   "source": [
    "# If Registered == 1, the individual is registered to vote\n",
    "# This table counts how frequently combinations of age and educcation are to be registered/not registered to vote\n",
    "pd.crosstab([voters.AgeGroup, voters.Education], voters.Registered)"
   ]
  },
  {
   "cell_type": "code",
   "execution_count": null,
   "metadata": {
    "collapsed": false,
    "scrolled": true
   },
   "outputs": [],
   "source": [
    "pd.crosstab([voters.AgeGroup, voters.Education], voters.VotedFor, margins=True)"
   ]
  },
  {
   "cell_type": "markdown",
   "metadata": {},
   "source": [
    "## Pivot Tables\n",
    "\n",
    "Pivot tables are effectively another form of cross-tabulation. We construct a table where each cell is a statistical summary of a dataset, entries mapped to a cell being aggregated together according to some aggregation function. We choose which variables should be row variables, which should be column variables, and what variable constitutes \"values\" that the table aggregates.\n",
    "\n",
    "There is a pandas function, `pivot_table()`, that constructs pivot tables. If data is in a `DataFrame`, though, the `pivot_table()` method is easier and faster to use.\n",
    "\n",
    "### Population Data\n",
    "Here I construct pivot tables for the population data, thus getting total population counts. The only reasonable way to aggregate is by summing populations together. Notice that the values are always `Population`."
   ]
  },
  {
   "cell_type": "code",
   "execution_count": null,
   "metadata": {
    "collapsed": false
   },
   "outputs": [],
   "source": [
    "ppUSA.pivot_table(index=\"Age\", columns=\"Year\", values=\"Population\", aggfunc=\"sum\")  # Populations in age groups over time"
   ]
  },
  {
   "cell_type": "code",
   "execution_count": null,
   "metadata": {
    "collapsed": false
   },
   "outputs": [],
   "source": [
    "ppUSA.pivot_table(index=\"Sex\", columns=\"Year\", values=\"Population\", aggfunc=\"sum\")    # Population by sex over time"
   ]
  },
  {
   "cell_type": "markdown",
   "metadata": {},
   "source": [
    "### Voter Data\n",
    "\n",
    "With the voter data we can use pivot tables in more creative an interesting ways to get summaries.\n",
    "\n",
    "Perhaps the first trick is to transform the column `VotedFor` into what are known as dummy variables; they take value 1 when a condition holds, and 0 when it does not hold. In this case, we get a dummy variable for when a voter voted for Clinton, Johnson, Stein, or Trump, which can be more useful than a single column containing which candidate someone voted for.\n",
    "\n",
    "We can construct a `DataFrame` containing dummy variables from a `Categorical` `Series` using the pandas function `get_dummies()`."
   ]
  },
  {
   "cell_type": "code",
   "execution_count": null,
   "metadata": {
    "collapsed": false
   },
   "outputs": [],
   "source": [
    "pd.get_dummies(voters.VotedFor).head()"
   ]
  },
  {
   "cell_type": "markdown",
   "metadata": {},
   "source": [
    "We then join these tables together. Notice the relationship between the dummy variables and the `VotedFor` column."
   ]
  },
  {
   "cell_type": "code",
   "execution_count": null,
   "metadata": {
    "collapsed": false,
    "scrolled": false
   },
   "outputs": [],
   "source": [
    "voters = voters.join(pd.get_dummies(voters.VotedFor))\n",
    "voters.head()"
   ]
  },
  {
   "cell_type": "code",
   "execution_count": null,
   "metadata": {
    "collapsed": false
   },
   "outputs": [],
   "source": [
    "voters[\"Third Party (LG)\"] = voters[\"Stein (G)\"] + voters[\"Johnson (L)\"]    # An intersting column itself\n",
    "voters"
   ]
  },
  {
   "cell_type": "markdown",
   "metadata": {},
   "source": [
    "When we have dummy variables, if we aggregate using `'sum'`, we get the number of voters in a cell who voted for a certain candidate."
   ]
  },
  {
   "cell_type": "code",
   "execution_count": null,
   "metadata": {
    "collapsed": false
   },
   "outputs": [],
   "source": [
    "voters.pivot_table(values=\"Clinton (D)\", index=\"Education\", columns=\"AgeGroup\", aggfunc=\"sum\")"
   ]
  },
  {
   "cell_type": "markdown",
   "metadata": {},
   "source": [
    "Replace `\"sum\"` with `\"mean\"`, though, and you interpret the number in the cell as the *proportion* of individuals in that group who chose a certain candidate. This allows you to see which groups favored which candidate and by how much."
   ]
  },
  {
   "cell_type": "code",
   "execution_count": null,
   "metadata": {
    "collapsed": false
   },
   "outputs": [],
   "source": [
    "voters.pivot_table(values=\"Clinton (D)\", index=\"Education\", columns=\"AgeGroup\", aggfunc='mean')"
   ]
  },
  {
   "cell_type": "markdown",
   "metadata": {},
   "source": [
    "The above table suggests that in our sample Clinton was more popular among older voters and among more educated voters."
   ]
  },
  {
   "cell_type": "code",
   "execution_count": null,
   "metadata": {
    "collapsed": false
   },
   "outputs": [],
   "source": [
    "voters.pivot_table(values=\"Trump (R)\", index=\"Education\", columns=\"AgeGroup\", aggfunc='mean')    # Agrees with pattern"
   ]
  },
  {
   "cell_type": "code",
   "execution_count": null,
   "metadata": {
    "collapsed": false
   },
   "outputs": [],
   "source": [
    "voters.pivot_table(values=\"Registered\", index=\"Education\", columns=\"AgeGroup\", aggfunc='sum')    # How many registered?"
   ]
  },
  {
   "cell_type": "code",
   "execution_count": null,
   "metadata": {
    "collapsed": false
   },
   "outputs": [],
   "source": [
    "voters.pivot_table(values=\"Registered\", index=\"Education\", columns=\"AgeGroup\", aggfunc='mean')    # What proportion?"
   ]
  }
 ],
 "metadata": {
  "kernelspec": {
   "display_name": "Python 3",
   "language": "python",
   "name": "python3"
  },
  "language_info": {
   "codemirror_mode": {
    "name": "ipython",
    "version": 3
   },
   "file_extension": ".py",
   "mimetype": "text/x-python",
   "name": "python",
   "nbconvert_exporter": "python",
   "pygments_lexer": "ipython3",
   "version": "3.6.0"
  }
 },
 "nbformat": 4,
 "nbformat_minor": 2
}
