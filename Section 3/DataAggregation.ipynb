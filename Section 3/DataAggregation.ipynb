{
 "cells": [
  {
   "cell_type": "markdown",
   "metadata": {},
   "source": [
    "# Data Aggregation\n",
    "*Curtis Miller*\n",
    "\n",
    "Now that we can form groups, let's look at how to get useful quantities for groups.\n",
    "\n",
    "## Group Quantities\n",
    "\n",
    "Let's first pick up after where the last video left off."
   ]
  },
  {
   "cell_type": "code",
   "execution_count": null,
   "metadata": {
    "collapsed": true
   },
   "outputs": [],
   "source": [
    "import pandas as pd"
   ]
  },
  {
   "cell_type": "code",
   "execution_count": null,
   "metadata": {
    "collapsed": false
   },
   "outputs": [],
   "source": [
    "pop_pyramids = pd.read_csv(\"PopPyramids.csv\")\n",
    "pop_pyramids = pop_pyramids.loc[:, [\"Year\", \"Country\", \"Age\", \"Male Population\", \"Female Population\"]]\n",
    "pop_pyramids.columns = pd.Index([\"Year\", \"Country\", \"Age\", \"Male\", \"Female\"])\n",
    "pop_pyramids = pop_pyramids.loc[pop_pyramids.Age != \"Total\"]\n",
    "pop_pyramids = pd.melt(pop_pyramids, id_vars=[\"Year\", \"Country\", \"Age\"], var_name=\"Sex\", value_name=\"Population\")\n",
    "pop_pyramids.head(21)"
   ]
  },
  {
   "cell_type": "code",
   "execution_count": null,
   "metadata": {
    "collapsed": false
   },
   "outputs": [],
   "source": [
    "pop_pyramids.tail(21)"
   ]
  },
  {
   "cell_type": "code",
   "execution_count": null,
   "metadata": {
    "collapsed": false
   },
   "outputs": [],
   "source": [
    "pop_pyramids_16 = pop_pyramids.loc[pop_pyramids.Year == 2016].drop(\"Year\", axis=1)    # 2016 data\n",
    "\n",
    "# The groups\n",
    "yeargroup = pop_pyramids.groupby(\"Year\")\n",
    "agegroup16 = pop_pyramids_16.groupby(\"Age\")\n",
    "countrygroup16 = pop_pyramids_16.groupby(\"Country\")\n",
    "sexgroup16 = pop_pyramids_16.groupby(\"Sex\")\n",
    "cyagroup = pop_pyramids.groupby([\"Country\", \"Year\", \"Age\"])\n",
    "\n",
    "# A preview of the groups\n",
    "sexgroup.groups"
   ]
  },
  {
   "cell_type": "markdown",
   "metadata": {},
   "source": [
    "## Group-Level Calculations\n",
    "You can apply `DataFrame` methods to group objects to get group-level statistics."
   ]
  },
  {
   "cell_type": "code",
   "execution_count": null,
   "metadata": {
    "collapsed": false
   },
   "outputs": [],
   "source": [
    "yeargroup.sum()    # Total population per year"
   ]
  },
  {
   "cell_type": "code",
   "execution_count": null,
   "metadata": {
    "collapsed": false
   },
   "outputs": [],
   "source": [
    "agegroup16.sum()    # Age group "
   ]
  },
  {
   "cell_type": "code",
   "execution_count": null,
   "metadata": {
    "collapsed": false
   },
   "outputs": [],
   "source": [
    "agegroup16.mean()    # What is the mean number of people in age groups?"
   ]
  },
  {
   "cell_type": "code",
   "execution_count": null,
   "metadata": {
    "collapsed": false
   },
   "outputs": [],
   "source": [
    "agegroup16.std()    # Standard deviation?"
   ]
  },
  {
   "cell_type": "code",
   "execution_count": null,
   "metadata": {
    "collapsed": false,
    "scrolled": false
   },
   "outputs": [],
   "source": [
    "agegroup16.describe()     # A detailed description"
   ]
  },
  {
   "cell_type": "code",
   "execution_count": null,
   "metadata": {
    "collapsed": false
   },
   "outputs": [],
   "source": [
    "sexgroup16.describe()"
   ]
  },
  {
   "cell_type": "code",
   "execution_count": null,
   "metadata": {
    "collapsed": false
   },
   "outputs": [],
   "source": [
    "countrygroup16.quantile(0.9)    # Quantiles for countries"
   ]
  },
  {
   "cell_type": "markdown",
   "metadata": {},
   "source": [
    "## `aggregate()`\n",
    "\n",
    "The group method `aggregate()` (or equivalently `agg()`) computes group-level statistics as we have been doing but permits custom functions and computing multiple statistics for groups."
   ]
  },
  {
   "cell_type": "code",
   "execution_count": null,
   "metadata": {
    "collapsed": true
   },
   "outputs": [],
   "source": [
    "import numpy as np"
   ]
  },
  {
   "cell_type": "code",
   "execution_count": null,
   "metadata": {
    "collapsed": false
   },
   "outputs": [],
   "source": [
    "countrygroup16.agg(np.sum)"
   ]
  },
  {
   "cell_type": "code",
   "execution_count": null,
   "metadata": {
    "collapsed": false
   },
   "outputs": [],
   "source": [
    "countrygroup16.agg([np.sum, np.mean, np.std])"
   ]
  },
  {
   "cell_type": "code",
   "execution_count": null,
   "metadata": {
    "collapsed": false
   },
   "outputs": [],
   "source": [
    "iqr = lambda x: np.percentile(x, 75) - np.percentile(x, 0.25)    # A function computing the inter-quartile range (IQR)\n",
    "iqr(np.array([1, 2, 3, 4, 5, 6]))"
   ]
  },
  {
   "cell_type": "code",
   "execution_count": null,
   "metadata": {
    "collapsed": false
   },
   "outputs": [],
   "source": [
    "sexgroup16.agg(iqr)"
   ]
  },
  {
   "cell_type": "code",
   "execution_count": null,
   "metadata": {
    "collapsed": false
   },
   "outputs": [],
   "source": [
    "iqr.__name__"
   ]
  },
  {
   "cell_type": "code",
   "execution_count": null,
   "metadata": {
    "collapsed": false
   },
   "outputs": [],
   "source": [
    "sexgroup16.agg([np.sum, iqr])    # Notice how IQR is named"
   ]
  },
  {
   "cell_type": "code",
   "execution_count": null,
   "metadata": {
    "collapsed": false
   },
   "outputs": [],
   "source": [
    "sexgroup16.agg(((\"Total\", np.sum), (\"IQR\", iqr)))"
   ]
  }
 ],
 "metadata": {
  "kernelspec": {
   "display_name": "Python [Root]",
   "language": "python",
   "name": "Python [Root]"
  },
  "language_info": {
   "codemirror_mode": {
    "name": "ipython",
    "version": 3
   },
   "file_extension": ".py",
   "mimetype": "text/x-python",
   "name": "python",
   "nbconvert_exporter": "python",
   "pygments_lexer": "ipython3",
   "version": "3.5.2"
  }
 },
 "nbformat": 4,
 "nbformat_minor": 2
}
